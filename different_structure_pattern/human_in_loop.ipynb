{
 "cells": [
  {
   "cell_type": "markdown",
   "metadata": {},
   "source": [
    "#### For some actions, you may want to require human approval before running to ensure that everything is running as intended."
   ]
  },
  {
   "cell_type": "code",
   "execution_count": 92,
   "metadata": {},
   "outputs": [],
   "source": [
    "from typing import Annotated\n",
    "import operator,json\n",
    "from typing import TypedDict, Annotated, Sequence\n",
    "from typing_extensions import TypedDict\n",
    "from langchain_core.messages import BaseMessage\n",
    "from langgraph.checkpoint.memory import MemorySaver\n",
    "from langgraph.graph import StateGraph,END,START\n",
    "from langgraph.graph.message import add_messages\n",
    "from langgraph.prebuilt import ToolNode, tools_condition\n",
    "from langchain_core.tools import tool\n",
    "from langchain_community.tools.tavily_search import TavilySearchResults"
   ]
  },
  {
   "cell_type": "code",
   "execution_count": 93,
   "metadata": {},
   "outputs": [],
   "source": [
    "from langchain_groq import ChatGroq\n",
    "llm=ChatGroq(model_name=\"Gemma2-9b-It\")"
   ]
  },
  {
   "cell_type": "code",
   "execution_count": 94,
   "metadata": {},
   "outputs": [
    {
     "data": {
      "text/plain": [
       "AIMessage(content='Hello! 👋  How can I help you today?\\n', additional_kwargs={}, response_metadata={'token_usage': {'completion_tokens': 14, 'prompt_tokens': 10, 'total_tokens': 24, 'completion_time': 0.025454545, 'prompt_time': 3.9e-07, 'queue_time': 0.020031796, 'total_time': 0.025454935}, 'model_name': 'Gemma2-9b-It', 'system_fingerprint': 'fp_10c08bf97d', 'finish_reason': 'stop', 'logprobs': None}, id='run-e177460b-748e-4c60-9f9c-e1d0e138a7cf-0', usage_metadata={'input_tokens': 10, 'output_tokens': 14, 'total_tokens': 24})"
      ]
     },
     "execution_count": 94,
     "metadata": {},
     "output_type": "execute_result"
    }
   ],
   "source": [
    "llm.invoke(\"hi\")"
   ]
  },
  {
   "cell_type": "code",
   "execution_count": 95,
   "metadata": {},
   "outputs": [
    {
     "data": {
      "text/plain": [
       "'Hello! 👋  How can I help you today?\\n'"
      ]
     },
     "execution_count": 95,
     "metadata": {},
     "output_type": "execute_result"
    }
   ],
   "source": [
    "llm.invoke(\"hi\").content"
   ]
  },
  {
   "cell_type": "code",
   "execution_count": 96,
   "metadata": {},
   "outputs": [],
   "source": [
    "@tool\n",
    "def multiply(first_number:int, second_number:int)->int:\n",
    "    \"\"\"multiply two integer number\"\"\"\n",
    "    return first_number * second_number"
   ]
  },
  {
   "cell_type": "code",
   "execution_count": 97,
   "metadata": {},
   "outputs": [
    {
     "name": "stderr",
     "output_type": "stream",
     "text": [
      "C:\\Users\\sunny\\AppData\\Local\\Temp\\ipykernel_55592\\2089873997.py:1: LangChainDeprecationWarning: The method `BaseTool.__call__` was deprecated in langchain-core 0.1.47 and will be removed in 1.0. Use :meth:`~invoke` instead.\n",
      "  multiply({\"first_number\":24,\"second_number\":364})\n"
     ]
    },
    {
     "data": {
      "text/plain": [
       "8736"
      ]
     },
     "execution_count": 97,
     "metadata": {},
     "output_type": "execute_result"
    }
   ],
   "source": [
    "multiply({\"first_number\":24,\"second_number\":364})"
   ]
  },
  {
   "cell_type": "code",
   "execution_count": 98,
   "metadata": {},
   "outputs": [
    {
     "data": {
      "text/plain": [
       "8736"
      ]
     },
     "execution_count": 98,
     "metadata": {},
     "output_type": "execute_result"
    }
   ],
   "source": [
    "multiply.invoke({\"first_number\":24,\"second_number\":364})"
   ]
  },
  {
   "cell_type": "code",
   "execution_count": 99,
   "metadata": {},
   "outputs": [],
   "source": [
    "@tool\n",
    "def search(query:str):\n",
    "    \"\"\"perform the web search on the user query\"\"\"\n",
    "    tavily=TavilySearchResults()\n",
    "    result=tavily.invoke(query)\n",
    "    return result"
   ]
  },
  {
   "cell_type": "code",
   "execution_count": 100,
   "metadata": {},
   "outputs": [
    {
     "data": {
      "text/plain": [
       "[{'url': 'https://simple.wikipedia.org/wiki/President_of_the_United_States',\n",
       "  'content': 'The president is also the head of the executive branch of the federal government of the United States and is the chairman of the presidential cabinet.[10]\\nJoe Biden is the 46th and current president of the United States, in office since January 2021.[11]\\nEligibility and requirements[change | change source]\\nArticle II, Section 1, Clause 5 of the constitution states for a person to serve as president must:\\nElection process and presidential terms[change | change source]\\nThe president is elected by the people through the Electoral College to a four-year term, along with the vice presidential candidate or the incumbent vice president of the United States as their running mate.[12] Contents\\nPresident of the United States\\nThe president of the United States (POTUS)[9] is the head of state and head of government of the United States of America and the commander-in-chief of the United States Armed Forces. Executive Office of the President[change | change source]\\nThe Executive Office of the President consists of the offices and agencies that support the work of the president at the center of the executive branch of the United States federal government. President-elect of the United States[change | change source]\\nThe president-elect of the United States is the candidate who has won the United States presidential election and is awaiting inauguration to become the president.\\n The office consists of several offices and agencies, such as the White House Office, the staff working directly for and reporting to the president, including White House staff, the National Security Council, and the Office of Management and Budget.\\n'},\n",
       " {'url': 'https://www.state.gov/biographies/joe-biden/',\n",
       "  'content': \"January 20, 2021 - Present. Joe Biden is the 46th President of the United States. Please find the President's full biography on the White House website.\"},\n",
       " {'url': 'https://www.usa.gov/presidents',\n",
       "  'content': 'Vice president of the United States\\nThe vice president of the United States presides over the U.S. Senate and takes over the role of president of the United States if the president is unable to perform his or her duties. President of the United States\\nThe president of the United States is the:\\nCurrent president\\nThe 46th and current president of the United States is Joseph R. Biden, Jr. First lady\\nThe First lady of the United States has traditionally been the wife or other close female relative of the president of the United States. Requirements to be eligible to become president\\nAccording to Article II of the U.S. Constitution, the president must:\\nLearn about the U.S. presidential election process.\\n If the vice president is not able to fulfill the duties of president, the role is passed to another leader in the order of presidential succession.\\n'},\n",
       " {'url': 'https://www.britannica.com/biography/Joe-Biden',\n",
       "  'content': 'Significantly more Democrats voted in the 2020 election than in previous presidential contests, and the Democratic Party not only won the presidential election but also maintained its control of the U.S. House of Representatives and took control of the U.S. Senate from Republicans, though only by the slimmest of margins (the resulting Senate membership was evenly divided between the two parties at 50 senators each, but tie votes could be broken by Vice President Harris, acting in her constitutional role as president of the Senate). Biden supported three significant pieces of voting rights and electoral-reform legislation: the For the People Act, passed by the House in March 2021; the John Lewis Voting Rights Advancement Act, passed by the House in August; and the Freedom to Vote Act, introduced in the Senate in September. The failure of the electoral-reform measures, which Democrats viewed as essential to preserving American democracy, prompted progressive and even some moderate Democrats to urge the elimination of the filibuster, which is not established in the U.S. Constitution and can be ended by the Senate in a simple majority vote.\\n In early November, following important off-year elections in which Democrats suffered several unexpected defeats—signaling a likely loss of the House and Senate to Republicans in the 2022 election—Biden and Democratic House leaders intensified their efforts to reconcile the factions, arguing that some tangible legislative achievement was necessary to retain the support of swing voters. During and after the withdrawal, the Biden administration was criticized by Republican and some Democratic leaders for having misjudged the strength and resolve of both the Taliban and the Afghan government and security forces.'},\n",
       " {'url': 'https://en.wikipedia.org/wiki/Presidency_of_Joe_Biden',\n",
       "  'content': 'On November 23, after Michigan certified its results, Murphy issued the letter of ascertainment, granting the Biden transition team access to federal funds and resources for an orderly transition.[29]\\nTwo days after becoming the projected winner of the 2020 election, Biden announced the formation of a task force to advise him on the COVID-19 pandemic during the transition, co-chaired by former Surgeon General Vivek Murthy, former FDA commissioner David A. Kessler, and Yale University\\'s Marcella Nunez-Smith.[30]\\nOn January 5, 2021, the Democratic Party won control of the United States Senate, effective January 20, as a result of electoral victories in Georgia by Jon Ossoff in a runoff election for a six-year term and Raphael Warnock in a special runoff election for a two-year term.[31][32] President-elect Biden had supported and campaigned for both candidates prior to the runoff elections on January 5.[33][34]\\nOn January 6, a mob of thousands of Trump supporters violently stormed the Capitol in the hope of overturning Biden\\'s election, forcing Congress to evacuate during the counting of the Electoral College votes.[35][36] More than 26,000 National Guard members were deployed to the capital for the inauguration, with thousands remaining into the spring.[37]\\nOn January 20, 2021, Biden was sworn in by U.S. Chief Justice John Roberts as the 46th president of the United States, completing the oath of office at 11:49\\xa0am EST, eleven minutes before the legal start of his term.[38][39]\\nInaugural address\\nBiden\\'s inaugural speech laid out his vision to unite the nation, prefaced by the various impacts of the COVID-19 pandemic, economic strife, climate change, political polarization, and racial injustice.[40] The union representing ICE agents signaled that its agents would not accept reversals of Trump policies.[232]\\nIn March 2021, the Biden administration granted temporary protected status to Venezuelans fleeing the country amidst the ongoing political and economic crisis.[234]\\nOn June 1, 2021, the\\xa0DHS officially terminated the\\xa0Trump-era \"Remain in Mexico\" policy, which mandated that all\\xa0asylum seekers\\xa0from\\xa0Central America\\xa0were to wait in\\xa0Mexico\\xa0pending their court cases; however, a health order from March 2020 allowed the border authorities to send migrants back for the duration of the\\xa0COVID-19 pandemic\\xa0have remained in place.[235][236] However, on August 14, 2021, a federal judge in Texas ordered the Biden administration to reimplement the policy; the Supreme Court placed a pause on the ruling to give the administration time for arguments.[237][238] On August 24, 2021, the Supreme Court ruled that the Biden administration must comply with the lower court\\'s ruling to reinstate the policy.[239][240]\\nEarly on in Biden\\'s tenure, a surge in unaccompanied minors at the U.S. border stirred controversy. The administration also expanded ties with West Africa, including support for infrastructure improvements at the Benin seaport of Cotonou, a key part of the West African economy.[372][376] Biden appointed longtime U.S. diplomat Johnnie Carson to coordinate implementation of U.S. actions following up from the summit.[377]\\nDuring the 2022 summit, Biden and senior administration officials also met privately with six African leaders facing elections in 2023, pushing them to ensure free and fair elections in their nations.[377]\\nSenator Bob Menendez, the Democratic chairman of the Senate Foreign Relations Committee, has criticized the Biden administration for hesitating to impose sanctions on the governments of Sudan and Ethiopia, where many atrocities and war crimes were committed in the Tigray War.[378]\\nArmenian genocide\\nOn April 24, 2021, the Biden administration declared that the Turkish killings of Armenians at the start of the 20th century were a genocide. Others criticize the CDC for implementing this change following lobbying by Delta Airlines, leading to social media backlash against the federal government.[117]\\nBiden gave a speech at the John F. Kennedy Presidential Library and Museum on September 12, 2022, the 60th anniversary of Kennedy\\'s We Choose to Go to the Moon speech, promoting his administration\\'s revival of the Beau Biden Cancer Moonshot, including the new Advanced Research Projects Agency for Health.[118]\\nEconomy\\nOn January 22, 2021, Biden signed an executive order that removed schedule F, overturning a number of Trump\\'s policies that limited the collective bargaining power of federal unions.[119][120][121] Biden\\'s executive order also promotes a $15 minimum wage for federal workers and repeals three of Trump\\'s executive orders which made the employee discipline process stricter and restricted union representatives\\' access to office space. Biden partly attributed the lack of early evacuation of Afghan civilians to the Afghan government\\'s opposition of a \"mass exodus\" which they thought would cause a \"crisis of confidence\".[360]\\nOn August 26, a suicide attack was carried out by the Islamic State of Iraq and the Levant - Khorasan Province at the Hamid Karzai International Airport, killing more than 170 people, including at least 62 Afghan civilians, 13 US service members, two British nationals and the child of a third British national.[361][362] Biden made a public address following the attack, in which he honored the American service members who were killed, calling them \"heroes\" and saying they lost their lives \"in the service of liberty\", and stated that the US had evacuated more than 100,000 Americans, Afghans, and others.'}]"
      ]
     },
     "execution_count": 100,
     "metadata": {},
     "output_type": "execute_result"
    }
   ],
   "source": [
    "search(\"who is a current president of USA?\")"
   ]
  },
  {
   "cell_type": "code",
   "execution_count": 101,
   "metadata": {},
   "outputs": [
    {
     "data": {
      "text/plain": [
       "[{'url': 'https://simple.wikipedia.org/wiki/President_of_the_United_States',\n",
       "  'content': 'The president is also the head of the executive branch of the federal government of the United States and is the chairman of the presidential cabinet.[10]\\nJoe Biden is the 46th and current president of the United States, in office since January 2021.[11]\\nEligibility and requirements[change | change source]\\nArticle II, Section 1, Clause 5 of the constitution states for a person to serve as president must:\\nElection process and presidential terms[change | change source]\\nThe president is elected by the people through the Electoral College to a four-year term, along with the vice presidential candidate or the incumbent vice president of the United States as their running mate.[12] Contents\\nPresident of the United States\\nThe president of the United States (POTUS)[9] is the head of state and head of government of the United States of America and the commander-in-chief of the United States Armed Forces. Executive Office of the President[change | change source]\\nThe Executive Office of the President consists of the offices and agencies that support the work of the president at the center of the executive branch of the United States federal government. President-elect of the United States[change | change source]\\nThe president-elect of the United States is the candidate who has won the United States presidential election and is awaiting inauguration to become the president.\\n The office consists of several offices and agencies, such as the White House Office, the staff working directly for and reporting to the president, including White House staff, the National Security Council, and the Office of Management and Budget.\\n'},\n",
       " {'url': 'https://www.state.gov/biographies/joe-biden/',\n",
       "  'content': \"January 20, 2021 - Present. Joe Biden is the 46th President of the United States. Please find the President's full biography on the White House website.\"},\n",
       " {'url': 'https://www.usa.gov/presidents',\n",
       "  'content': 'Vice president of the United States\\nThe vice president of the United States presides over the U.S. Senate and takes over the role of president of the United States if the president is unable to perform his or her duties. President of the United States\\nThe president of the United States is the:\\nCurrent president\\nThe 46th and current president of the United States is Joseph R. Biden, Jr. First lady\\nThe First lady of the United States has traditionally been the wife or other close female relative of the president of the United States. Requirements to be eligible to become president\\nAccording to Article II of the U.S. Constitution, the president must:\\nLearn about the U.S. presidential election process.\\n If the vice president is not able to fulfill the duties of president, the role is passed to another leader in the order of presidential succession.\\n'},\n",
       " {'url': 'https://www.britannica.com/biography/Joe-Biden',\n",
       "  'content': 'Significantly more Democrats voted in the 2020 election than in previous presidential contests, and the Democratic Party not only won the presidential election but also maintained its control of the U.S. House of Representatives and took control of the U.S. Senate from Republicans, though only by the slimmest of margins (the resulting Senate membership was evenly divided between the two parties at 50 senators each, but tie votes could be broken by Vice President Harris, acting in her constitutional role as president of the Senate). Biden supported three significant pieces of voting rights and electoral-reform legislation: the For the People Act, passed by the House in March 2021; the John Lewis Voting Rights Advancement Act, passed by the House in August; and the Freedom to Vote Act, introduced in the Senate in September. The failure of the electoral-reform measures, which Democrats viewed as essential to preserving American democracy, prompted progressive and even some moderate Democrats to urge the elimination of the filibuster, which is not established in the U.S. Constitution and can be ended by the Senate in a simple majority vote.\\n In early November, following important off-year elections in which Democrats suffered several unexpected defeats—signaling a likely loss of the House and Senate to Republicans in the 2022 election—Biden and Democratic House leaders intensified their efforts to reconcile the factions, arguing that some tangible legislative achievement was necessary to retain the support of swing voters. During and after the withdrawal, the Biden administration was criticized by Republican and some Democratic leaders for having misjudged the strength and resolve of both the Taliban and the Afghan government and security forces.'},\n",
       " {'url': 'https://en.wikipedia.org/wiki/Presidency_of_Joe_Biden',\n",
       "  'content': 'On November 23, after Michigan certified its results, Murphy issued the letter of ascertainment, granting the Biden transition team access to federal funds and resources for an orderly transition.[29]\\nTwo days after becoming the projected winner of the 2020 election, Biden announced the formation of a task force to advise him on the COVID-19 pandemic during the transition, co-chaired by former Surgeon General Vivek Murthy, former FDA commissioner David A. Kessler, and Yale University\\'s Marcella Nunez-Smith.[30]\\nOn January 5, 2021, the Democratic Party won control of the United States Senate, effective January 20, as a result of electoral victories in Georgia by Jon Ossoff in a runoff election for a six-year term and Raphael Warnock in a special runoff election for a two-year term.[31][32] President-elect Biden had supported and campaigned for both candidates prior to the runoff elections on January 5.[33][34]\\nOn January 6, a mob of thousands of Trump supporters violently stormed the Capitol in the hope of overturning Biden\\'s election, forcing Congress to evacuate during the counting of the Electoral College votes.[35][36] More than 26,000 National Guard members were deployed to the capital for the inauguration, with thousands remaining into the spring.[37]\\nOn January 20, 2021, Biden was sworn in by U.S. Chief Justice John Roberts as the 46th president of the United States, completing the oath of office at 11:49\\xa0am EST, eleven minutes before the legal start of his term.[38][39]\\nInaugural address\\nBiden\\'s inaugural speech laid out his vision to unite the nation, prefaced by the various impacts of the COVID-19 pandemic, economic strife, climate change, political polarization, and racial injustice.[40] The union representing ICE agents signaled that its agents would not accept reversals of Trump policies.[232]\\nIn March 2021, the Biden administration granted temporary protected status to Venezuelans fleeing the country amidst the ongoing political and economic crisis.[234]\\nOn June 1, 2021, the\\xa0DHS officially terminated the\\xa0Trump-era \"Remain in Mexico\" policy, which mandated that all\\xa0asylum seekers\\xa0from\\xa0Central America\\xa0were to wait in\\xa0Mexico\\xa0pending their court cases; however, a health order from March 2020 allowed the border authorities to send migrants back for the duration of the\\xa0COVID-19 pandemic\\xa0have remained in place.[235][236] However, on August 14, 2021, a federal judge in Texas ordered the Biden administration to reimplement the policy; the Supreme Court placed a pause on the ruling to give the administration time for arguments.[237][238] On August 24, 2021, the Supreme Court ruled that the Biden administration must comply with the lower court\\'s ruling to reinstate the policy.[239][240]\\nEarly on in Biden\\'s tenure, a surge in unaccompanied minors at the U.S. border stirred controversy. The administration also expanded ties with West Africa, including support for infrastructure improvements at the Benin seaport of Cotonou, a key part of the West African economy.[372][376] Biden appointed longtime U.S. diplomat Johnnie Carson to coordinate implementation of U.S. actions following up from the summit.[377]\\nDuring the 2022 summit, Biden and senior administration officials also met privately with six African leaders facing elections in 2023, pushing them to ensure free and fair elections in their nations.[377]\\nSenator Bob Menendez, the Democratic chairman of the Senate Foreign Relations Committee, has criticized the Biden administration for hesitating to impose sanctions on the governments of Sudan and Ethiopia, where many atrocities and war crimes were committed in the Tigray War.[378]\\nArmenian genocide\\nOn April 24, 2021, the Biden administration declared that the Turkish killings of Armenians at the start of the 20th century were a genocide. Others criticize the CDC for implementing this change following lobbying by Delta Airlines, leading to social media backlash against the federal government.[117]\\nBiden gave a speech at the John F. Kennedy Presidential Library and Museum on September 12, 2022, the 60th anniversary of Kennedy\\'s We Choose to Go to the Moon speech, promoting his administration\\'s revival of the Beau Biden Cancer Moonshot, including the new Advanced Research Projects Agency for Health.[118]\\nEconomy\\nOn January 22, 2021, Biden signed an executive order that removed schedule F, overturning a number of Trump\\'s policies that limited the collective bargaining power of federal unions.[119][120][121] Biden\\'s executive order also promotes a $15 minimum wage for federal workers and repeals three of Trump\\'s executive orders which made the employee discipline process stricter and restricted union representatives\\' access to office space. Biden partly attributed the lack of early evacuation of Afghan civilians to the Afghan government\\'s opposition of a \"mass exodus\" which they thought would cause a \"crisis of confidence\".[360]\\nOn August 26, a suicide attack was carried out by the Islamic State of Iraq and the Levant - Khorasan Province at the Hamid Karzai International Airport, killing more than 170 people, including at least 62 Afghan civilians, 13 US service members, two British nationals and the child of a third British national.[361][362] Biden made a public address following the attack, in which he honored the American service members who were killed, calling them \"heroes\" and saying they lost their lives \"in the service of liberty\", and stated that the US had evacuated more than 100,000 Americans, Afghans, and others.'}]"
      ]
     },
     "execution_count": 101,
     "metadata": {},
     "output_type": "execute_result"
    }
   ],
   "source": [
    "search.invoke(\"who is a current president of USA?\")"
   ]
  },
  {
   "cell_type": "code",
   "execution_count": 103,
   "metadata": {},
   "outputs": [],
   "source": [
    "tools=[search,multiply]"
   ]
  },
  {
   "cell_type": "code",
   "execution_count": 104,
   "metadata": {},
   "outputs": [],
   "source": [
    "model_with_tools = llm.bind_tools(tools)"
   ]
  },
  {
   "cell_type": "code",
   "execution_count": 117,
   "metadata": {},
   "outputs": [],
   "source": [
    "tool_mapping={tool.name: tool for tool in tools}"
   ]
  },
  {
   "cell_type": "code",
   "execution_count": 118,
   "metadata": {},
   "outputs": [
    {
     "data": {
      "text/plain": [
       "{'search': StructuredTool(name='search', description='perform the web search on the user query', args_schema=<class 'langchain_core.utils.pydantic.search'>, func=<function search at 0x0000011D1D908CA0>),\n",
       " 'multiply': StructuredTool(name='multiply', description='multiply two integer number', args_schema=<class 'langchain_core.utils.pydantic.multiply'>, func=<function multiply at 0x0000011D1D909870>)}"
      ]
     },
     "execution_count": 118,
     "metadata": {},
     "output_type": "execute_result"
    }
   ],
   "source": [
    "tool_mapping"
   ]
  },
  {
   "cell_type": "code",
   "execution_count": 119,
   "metadata": {},
   "outputs": [],
   "source": [
    "response = model_with_tools.invoke(\"who is a current president of USA?\")"
   ]
  },
  {
   "cell_type": "code",
   "execution_count": 120,
   "metadata": {},
   "outputs": [
    {
     "data": {
      "text/plain": [
       "AIMessage(content='', additional_kwargs={'tool_calls': [{'id': 'call_j29h', 'function': {'arguments': '{\"query\":\"Who is the current president of the USA?\"}', 'name': 'search'}, 'type': 'function'}]}, response_metadata={'token_usage': {'completion_tokens': 86, 'prompt_tokens': 1076, 'total_tokens': 1162, 'completion_time': 0.156363636, 'prompt_time': 0.034321225, 'queue_time': 0.003081050000000002, 'total_time': 0.190684861}, 'model_name': 'Gemma2-9b-It', 'system_fingerprint': 'fp_10c08bf97d', 'finish_reason': 'tool_calls', 'logprobs': None}, id='run-d42ca288-7f30-452a-808d-2b11b24f7477-0', tool_calls=[{'name': 'search', 'args': {'query': 'Who is the current president of the USA?'}, 'id': 'call_j29h', 'type': 'tool_call'}], usage_metadata={'input_tokens': 1076, 'output_tokens': 86, 'total_tokens': 1162})"
      ]
     },
     "execution_count": 120,
     "metadata": {},
     "output_type": "execute_result"
    }
   ],
   "source": [
    "response"
   ]
  },
  {
   "cell_type": "code",
   "execution_count": 121,
   "metadata": {},
   "outputs": [],
   "source": [
    "tool_details=response.additional_kwargs.get(\"tool_calls\")"
   ]
  },
  {
   "cell_type": "code",
   "execution_count": 122,
   "metadata": {},
   "outputs": [
    {
     "data": {
      "text/plain": [
       "[{'id': 'call_j29h',\n",
       "  'function': {'arguments': '{\"query\":\"Who is the current president of the USA?\"}',\n",
       "   'name': 'search'},\n",
       "  'type': 'function'}]"
      ]
     },
     "execution_count": 122,
     "metadata": {},
     "output_type": "execute_result"
    }
   ],
   "source": [
    "tool_details"
   ]
  },
  {
   "cell_type": "code",
   "execution_count": 123,
   "metadata": {},
   "outputs": [
    {
     "data": {
      "text/plain": [
       "'search'"
      ]
     },
     "execution_count": 123,
     "metadata": {},
     "output_type": "execute_result"
    }
   ],
   "source": [
    "tool_details[0][\"function\"][\"name\"]"
   ]
  },
  {
   "cell_type": "code",
   "execution_count": 124,
   "metadata": {},
   "outputs": [
    {
     "data": {
      "text/plain": [
       "'{\"query\":\"Who is the current president of the USA?\"}'"
      ]
     },
     "execution_count": 124,
     "metadata": {},
     "output_type": "execute_result"
    }
   ],
   "source": [
    "tool_details[0][\"function\"][\"arguments\"]"
   ]
  },
  {
   "cell_type": "code",
   "execution_count": 125,
   "metadata": {},
   "outputs": [
    {
     "data": {
      "text/plain": [
       "{'query': 'Who is the current president of the USA?'}"
      ]
     },
     "execution_count": 125,
     "metadata": {},
     "output_type": "execute_result"
    }
   ],
   "source": [
    "json.loads(tool_details[0][\"function\"][\"arguments\"])"
   ]
  },
  {
   "cell_type": "code",
   "execution_count": 126,
   "metadata": {},
   "outputs": [
    {
     "data": {
      "text/plain": [
       "[{'url': 'https://en.wikipedia.org/wiki/Presidency_of_Joe_Biden',\n",
       "  'content': 'On November 23, after Michigan certified its results, Murphy issued the letter of ascertainment, granting the Biden transition team access to federal funds and resources for an orderly transition.[29]\\nTwo days after becoming the projected winner of the 2020 election, Biden announced the formation of a task force to advise him on the COVID-19 pandemic during the transition, co-chaired by former Surgeon General Vivek Murthy, former FDA commissioner David A. Kessler, and Yale University\\'s Marcella Nunez-Smith.[30]\\nOn January 5, 2021, the Democratic Party won control of the United States Senate, effective January 20, as a result of electoral victories in Georgia by Jon Ossoff in a runoff election for a six-year term and Raphael Warnock in a special runoff election for a two-year term.[31][32] President-elect Biden had supported and campaigned for both candidates prior to the runoff elections on January 5.[33][34]\\nOn January 6, a mob of thousands of Trump supporters violently stormed the Capitol in the hope of overturning Biden\\'s election, forcing Congress to evacuate during the counting of the Electoral College votes.[35][36] More than 26,000 National Guard members were deployed to the capital for the inauguration, with thousands remaining into the spring.[37]\\nOn January 20, 2021, Biden was sworn in by U.S. Chief Justice John Roberts as the 46th president of the United States, completing the oath of office at 11:49\\xa0am EST, eleven minutes before the legal start of his term.[38][39]\\nInaugural address\\nBiden\\'s inaugural speech laid out his vision to unite the nation, prefaced by the various impacts of the COVID-19 pandemic, economic strife, climate change, political polarization, and racial injustice.[40] The union representing ICE agents signaled that its agents would not accept reversals of Trump policies.[232]\\nIn March 2021, the Biden administration granted temporary protected status to Venezuelans fleeing the country amidst the ongoing political and economic crisis.[234]\\nOn June 1, 2021, the\\xa0DHS officially terminated the\\xa0Trump-era \"Remain in Mexico\" policy, which mandated that all\\xa0asylum seekers\\xa0from\\xa0Central America\\xa0were to wait in\\xa0Mexico\\xa0pending their court cases; however, a health order from March 2020 allowed the border authorities to send migrants back for the duration of the\\xa0COVID-19 pandemic\\xa0have remained in place.[235][236] However, on August 14, 2021, a federal judge in Texas ordered the Biden administration to reimplement the policy; the Supreme Court placed a pause on the ruling to give the administration time for arguments.[237][238] On August 24, 2021, the Supreme Court ruled that the Biden administration must comply with the lower court\\'s ruling to reinstate the policy.[239][240]\\nEarly on in Biden\\'s tenure, a surge in unaccompanied minors at the U.S. border stirred controversy. The administration also expanded ties with West Africa, including support for infrastructure improvements at the Benin seaport of Cotonou, a key part of the West African economy.[372][376] Biden appointed longtime U.S. diplomat Johnnie Carson to coordinate implementation of U.S. actions following up from the summit.[377]\\nDuring the 2022 summit, Biden and senior administration officials also met privately with six African leaders facing elections in 2023, pushing them to ensure free and fair elections in their nations.[377]\\nSenator Bob Menendez, the Democratic chairman of the Senate Foreign Relations Committee, has criticized the Biden administration for hesitating to impose sanctions on the governments of Sudan and Ethiopia, where many atrocities and war crimes were committed in the Tigray War.[378]\\nArmenian genocide\\nOn April 24, 2021, the Biden administration declared that the Turkish killings of Armenians at the start of the 20th century were a genocide. Others criticize the CDC for implementing this change following lobbying by Delta Airlines, leading to social media backlash against the federal government.[117]\\nBiden gave a speech at the John F. Kennedy Presidential Library and Museum on September 12, 2022, the 60th anniversary of Kennedy\\'s We Choose to Go to the Moon speech, promoting his administration\\'s revival of the Beau Biden Cancer Moonshot, including the new Advanced Research Projects Agency for Health.[118]\\nEconomy\\nOn January 22, 2021, Biden signed an executive order that removed schedule F, overturning a number of Trump\\'s policies that limited the collective bargaining power of federal unions.[119][120][121] Biden\\'s executive order also promotes a $15 minimum wage for federal workers and repeals three of Trump\\'s executive orders which made the employee discipline process stricter and restricted union representatives\\' access to office space. Biden partly attributed the lack of early evacuation of Afghan civilians to the Afghan government\\'s opposition of a \"mass exodus\" which they thought would cause a \"crisis of confidence\".[360]\\nOn August 26, a suicide attack was carried out by the Islamic State of Iraq and the Levant - Khorasan Province at the Hamid Karzai International Airport, killing more than 170 people, including at least 62 Afghan civilians, 13 US service members, two British nationals and the child of a third British national.[361][362] Biden made a public address following the attack, in which he honored the American service members who were killed, calling them \"heroes\" and saying they lost their lives \"in the service of liberty\", and stated that the US had evacuated more than 100,000 Americans, Afghans, and others.'},\n",
       " {'url': 'https://www.history.com/topics/us-presidents/joe-biden',\n",
       "  'content': \"At his inauguration, Biden addressed the country's challenges and divisions, saying,\\xa0“Few people in our nation’s history have been more challenged or found a time more challenging or difficult than the time we’re in now...To overcome these challenges, to restore the soul and secure the future of America, requires so much more than words and requires the most elusive of all things in a democracy, unity.”\\n Joe Biden\\nBy: History.com Editors\\nUpdated: April 25, 2023\\n| Original: December 16, 2009\\nTable of Contents\\nJoe Biden (1942-), a man who spent nearly a half-century in public service as a senator and vice president, and who endured profound family loss, became the 46th president of the United States on January 20, 2021.\\n U.S. Presidents\\nStream U.S. Presidents documentaries and your favorite HISTORY series, commercial-free\\nCOVID-19 and the 2020 Election\\nA looming issue throughout the election was the coronavirus pandemic which had claimed more than 230,000 American lives and infected more than 9 million in the country. Although he had appropriately credited Kinnock in prior speeches, he failed to do so during an appearance at the Iowa State Fair and even borrowed facts from Kinnock’s life, stating inaccurately, for example, that he was the first in his family to go to college and that his ancestors were coal miners. Joe Biden as Vice President\\nBiden kicked off his second attempt at the White House 20 years later, during the 2008 primary, but dropped out after securing only 1 percent of the delegates in the Iowa Democratic caucuses.\\xa0\"},\n",
       " {'url': 'https://www.britannica.com/biography/Joe-Biden',\n",
       "  'content': 'Significantly more Democrats voted in the 2020 election than in previous presidential contests, and the Democratic Party not only won the presidential election but also maintained its control of the U.S. House of Representatives and took control of the U.S. Senate from Republicans, though only by the slimmest of margins (the resulting Senate membership was evenly divided between the two parties at 50 senators each, but tie votes could be broken by Vice President Harris, acting in her constitutional role as president of the Senate). Biden supported three significant pieces of voting rights and electoral-reform legislation: the For the People Act, passed by the House in March 2021; the John Lewis Voting Rights Advancement Act, passed by the House in August; and the Freedom to Vote Act, introduced in the Senate in September. The failure of the electoral-reform measures, which Democrats viewed as essential to preserving American democracy, prompted progressive and even some moderate Democrats to urge the elimination of the filibuster, which is not established in the U.S. Constitution and can be ended by the Senate in a simple majority vote.\\n In early November, following important off-year elections in which Democrats suffered several unexpected defeats—signaling a likely loss of the House and Senate to Republicans in the 2022 election—Biden and Democratic House leaders intensified their efforts to reconcile the factions, arguing that some tangible legislative achievement was necessary to retain the support of swing voters. During and after the withdrawal, the Biden administration was criticized by Republican and some Democratic leaders for having misjudged the strength and resolve of both the Taliban and the Afghan government and security forces.'},\n",
       " {'url': 'https://www.nytimes.com/spotlight/joe-biden',\n",
       "  'content': 'By Sheryl Gay Stolberg\\nKamala Harris\\nKamala Harris Breaks Record of Tiebreaking Votes in the Senate\\nThe vice president has provided the decisive vote in the Senate 32 times, in a reflection of Democrats’ narrow majority and broader polarization in politics.\\n By Helene Cooper\\nLatest\\nBiden’s Border Negotiations Mark Seismic Shift on Immigration Politics\\nThe discussions over the southern border show how drastically the politics of immigration have shifted to the right in the United States.\\n By Ana Swanson\\nBiden Steps Out in Tinsel Town and the Big Donors Show Up\\nThe president was back on the fund-raising trail in Los Angeles this weekend after a hiatus because of the writers’ and actors’ strikes.\\n By Anjali Huynh\\nAdvertisement\\nCoronavirus\\nNew C.D.C. Director Seeks to Foster Trust in a Battered Agency\\nFive months into her tenure at the Centers for Disease Control and Prevention, Dr. Mandy K. Cohen is trying to put a human face on public health.\\n By Mark Walker\\nBiden Watches Republican Dysfunction From a Distance\\nPresident Biden has chosen not to weigh in forcefully on the Republican meltdown in the House, instead trying to contrast his own achievements with the chaos of his rivals.\\n'},\n",
       " {'url': 'https://www.biography.com/political-figures/joe-biden',\n",
       "  'content': 'Although he moved forward with the selection of Cabinet members and other staffers, Biden initially found his transition efforts thwarted by Emily Murphy, head of the General Services Administration, who refused to release federal funds for the process until November 23.\\nCapitol Siege and Inauguration\\nOn January 6, 2021, after the start of a congressional session to formalize the Electoral College results, a mob of Trump supporters stormed the Capitol building and overwhelmed the police, forcing lawmakers to evacuate for their safety.\\n Among those that reversed the policies of his predecessor, he recommitted the United States to the climate-related Paris Agreement, overturned the ban that targeted travelers from Muslim-majority nations, pulled funding for the construction of a wall along the Mexican border, revoked the permit for the Keystone XL pipeline, and allowed transgender people to again serve in the military.\\n He also again unloaded on the president for his coronavirus management and policy of separating migrant children from their parents at the border, drawing a clear distinction between their styles with the declaration that “America’s character is on the ballot.”\\n2020 Election Win\\nWith several states counting mail-in ballots well past the close of polling places on November 3, 2020, the race remained too tight to call into the next day. In the White House Rose Garden with his wife, Jill, and President Obama by his side, Biden made his announcement, referring to his son’s recent death in his decision making: “As my family and I have worked through the grieving process, I’ve said all along what I’ve said time and again to others, that it may very well be that the process by the time we get through it closes the window. I started my career fighting for civil rights, and to be a part of what is both a moment in American history where the best people, the best ideas, the how can I say it?—the single best reflection of the American people can be called upon—to be at that moment, with a guy who has such incredible talent and who is also a breakthrough figure in multiple ways—I genuinely find that exciting.'}]"
      ]
     },
     "execution_count": 126,
     "metadata": {},
     "output_type": "execute_result"
    }
   ],
   "source": [
    "tool_mapping[tool_details[0][\"function\"][\"name\"]].invoke(json.loads(tool_details[0][\"function\"][\"arguments\"]))"
   ]
  },
  {
   "cell_type": "code",
   "execution_count": 127,
   "metadata": {},
   "outputs": [],
   "source": [
    "class AgentState(TypedDict):\n",
    "    messages: Annotated[Sequence[BaseMessage], operator.add]"
   ]
  },
  {
   "cell_type": "code",
   "execution_count": 128,
   "metadata": {},
   "outputs": [],
   "source": [
    "def invoke_model(state:AgentState):\n",
    "    messages = state['messages']\n",
    "    question = messages[-1]   ## Fetching the user question\n",
    "    return {\"messages\":[model_with_tools.invoke(question)]}"
   ]
  },
  {
   "cell_type": "code",
   "execution_count": 130,
   "metadata": {},
   "outputs": [],
   "source": [
    "def invoke_tool(state:AgentState):\n",
    "    tool_details= state['messages'][-1].additional_kwargs.get(\"tool_calls\", [])[0]\n",
    "    \n",
    "    if tool_details is None:\n",
    "        raise Exception(\"no tool call found\")\n",
    "    \n",
    "    print(f'Selected tool: {tool_details.get(\"function\").get(\"name\")}')\n",
    "    \n",
    "    if tool_details.get(\"function\").get(\"name\")==\"search\":\n",
    "        response = input(prompt=f\"[y/n] continue with expensive web search?\")\n",
    "        if response == \"n\":\n",
    "            raise Exception(\"web search discard\")\n",
    "        \n",
    "    response = tool_mapping[tool_details['function']['name']].invoke(json.loads(tool_details.get(\"function\").get(\"arguments\")))\n",
    "    return {\"messages\" : [response]}"
   ]
  },
  {
   "cell_type": "code",
   "execution_count": 131,
   "metadata": {},
   "outputs": [],
   "source": [
    "def router(state):\n",
    "    tool_calls = state['messages'][-1].additional_kwargs.get(\"tool_calls\", [])\n",
    "    if len(tool_calls):\n",
    "        return \"tool\"\n",
    "    else:\n",
    "        return \"end\""
   ]
  },
  {
   "cell_type": "code",
   "execution_count": 132,
   "metadata": {},
   "outputs": [
    {
     "data": {
      "text/plain": [
       "<langgraph.graph.state.StateGraph at 0x11d1d7bd030>"
      ]
     },
     "execution_count": 132,
     "metadata": {},
     "output_type": "execute_result"
    }
   ],
   "source": [
    "graph = StateGraph(AgentState) ### StateGraph with AgentState\n",
    "\n",
    "graph.add_node(\"ai_assistant\", invoke_model)\n",
    "\n",
    "graph.add_node(\"tool\", invoke_tool)"
   ]
  },
  {
   "cell_type": "code",
   "execution_count": 133,
   "metadata": {},
   "outputs": [
    {
     "data": {
      "text/plain": [
       "<langgraph.graph.state.StateGraph at 0x11d1d7bd030>"
      ]
     },
     "execution_count": 133,
     "metadata": {},
     "output_type": "execute_result"
    }
   ],
   "source": [
    "graph.add_conditional_edges(\"ai_assistant\", router, {\"tool\": \"tool\",\"end\": END,})\n",
    "\n",
    "graph.add_edge(\"tool\", END)\n",
    "\n",
    "#graph.add_edge(\"tool\", \"ai_assistant\")\n",
    "\n",
    "graph.set_entry_point(\"ai_assistant\")"
   ]
  },
  {
   "cell_type": "code",
   "execution_count": 134,
   "metadata": {},
   "outputs": [],
   "source": [
    "app = graph.compile()"
   ]
  },
  {
   "cell_type": "code",
   "execution_count": 135,
   "metadata": {},
   "outputs": [
    {
     "data": {
      "image/jpeg": "[encoded data removed]",
      "text/plain": [
       "<IPython.core.display.Image object>"
      ]
     },
     "metadata": {},
     "output_type": "display_data"
    }
   ],
   "source": [
    "from IPython.display import Image, display\n",
    "display(Image(app.get_graph().draw_mermaid_png()))"
   ]
  },
  {
   "cell_type": "code",
   "execution_count": 136,
   "metadata": {},
   "outputs": [
    {
     "name": "stdout",
     "output_type": "stream",
     "text": [
      "{'messages': [AIMessage(content='', additional_kwargs={'tool_calls': [{'id': 'call_r1es', 'function': {'arguments': '{\"query\":\"who is the upcoming president of USA\"}', 'name': 'search'}, 'type': 'function'}]}, response_metadata={'token_usage': {'completion_tokens': 86, 'prompt_tokens': 1075, 'total_tokens': 1161, 'completion_time': 0.156363636, 'prompt_time': 0.058229979, 'queue_time': 0.002707053000000001, 'total_time': 0.214593615}, 'model_name': 'Gemma2-9b-It', 'system_fingerprint': 'fp_10c08bf97d', 'finish_reason': 'tool_calls', 'logprobs': None}, id='run-9509165a-ce6a-4153-a13b-ef298f605b04-0', tool_calls=[{'name': 'search', 'args': {'query': 'who is the upcoming president of USA'}, 'id': 'call_r1es', 'type': 'tool_call'}], usage_metadata={'input_tokens': 1075, 'output_tokens': 86, 'total_tokens': 1161})]}\n",
      "----\n",
      "Selected tool: search\n",
      "{'messages': [[{'url': 'https://www.cnn.com/interactive/2024/politics/presidential-candidates-dg/', 'content': '2024 Presidential Candidates. By CNN Staff. Updated October 21, 2024. Former President Donald Trump is the Republican presidential nominee and Vice President Kamala Harris is the Democratic'}, {'url': 'https://projects.fivethirtyeight.com/2024-election-forecast/', 'content': \"538's final forecast for the presidential race between Vice President Kamala Harris and former President Donald Trump is officially out, and it's a real nail-biter. Our model gives Harris a XXX out of 100 chance of winning the majority of Electoral College votes. Our model gives Trump a XXX out of 100 chance.\"}, {'url': 'https://www.theatlantic.com/ideas/archive/2024/08/tracking-democrat-republican-presidential-candidates-2024-election/673118/', 'content': 'The 2024 presidential election was already like none in living memory: a matchup between the sitting president and a former president. Then it got even more historically unusual. After months of'}, {'url': 'https://ballotpedia.org/List_of_registered_2024_presidential_candidates', 'content': 'Email *\\nFirst Name *\\nLast Name\\nPlease complete the Captcha above\\nShare this page\\nFollow Ballotpedia\\nShare this page\\nFollow Ballotpedia\\nList of registered 2024 presidential candidates\\nThe United States will hold a presidential election on November 5, 2024. Information about voting\\n2024 Elections\\n2025 Elections\\nAnalysis\\nPublic Policy\\nInformation for candidates\\nGet Engaged\\nServices\\nTrending\\nSITE NAVIGATION A candidate may declare his or her candidacy at any time, but once he or she receives contributions or make expenditures in excess of $5,000, the candidate must register with the Federal Election Commission (FEC) within 15 days.[4]\\nOn this page, you will find:\\nRegistered presidential candidates, 1980-2020\\n Amanda Herbert • Mandy Morris • Caroline Presnell • Kelly Rindfleisch\\nPolicy: Caitlin Styrsky • Audrey Bayne • Molly Byrne • Jon Dunn • Jimmy McAllister • Josh Altic\\nTech: Matt Latourelle • Ryan Burch • Kirsten Corrao • Beth Dellea • Travis Eden • Tate Kamish • Margaret Kearney •'}, {'url': 'https://www.nytimes.com/interactive/2023/us/politics/presidential-candidates-2024.html', 'content': 'Dean Phillips, a moderate Democrat elected to the House in 2018, has few major policy disagreements with President Biden and has supported his agenda in Congress, but argues that Mr. Biden’s age and low approval ratings mean the party should nominate someone else.\\nRepublicans\\nRead more: Candidates on the issues ›\\nFormer President Donald J. Trump is running to retake the office he lost in 2020, then denied losing to the point of inciting a mob of his supporters to attack the United States Capitol.\\n By Martín González Gómez and Maggie AstorUpdated Nov. 12, 2023\\nDemocrats\\nRepublicans\\nIndependent and third-party\\nDropped out\\nNot running\\nBy Martín González Gómez and Maggie Astor\\n More about the candidates\\nDemocrats\\nPresident Biden has cast himself as a protector of democracy and a stabilizing force after the upheaval of the Trump administration.\\n Nikki Haley, a former governor of South Carolina and United Nations ambassador under Mr. Trump, has presented herself as a member of “a new generation of leadership” and emphasized her life experience as a daughter of Indian immigrants.\\n Mr. Trump is far ahead of any of his challengers in polls — partly because the fractured field has made it hard for voters to coalesce around a single alternative, and partly because of the tight hold he still exerts on the party’s base.\\n'}]]}\n",
      "----\n"
     ]
    }
   ],
   "source": [
    "for s in app.stream({\"messages\": [\"who is upcoming president of USA?\"]}):\n",
    "    print(list(s.values())[0])\n",
    "    print(\"----\")"
   ]
  },
  {
   "cell_type": "code",
   "execution_count": 137,
   "metadata": {},
   "outputs": [
    {
     "name": "stdout",
     "output_type": "stream",
     "text": [
      "{'messages': [AIMessage(content='', additional_kwargs={'tool_calls': [{'id': 'call_6219', 'function': {'arguments': '{\"first_number\":23,\"second_number\":46}', 'name': 'multiply'}, 'type': 'function'}]}, response_metadata={'token_usage': {'completion_tokens': 93, 'prompt_tokens': 1080, 'total_tokens': 1173, 'completion_time': 0.169090909, 'prompt_time': 0.044015498, 'queue_time': 0.0026565559999999974, 'total_time': 0.213106407}, 'model_name': 'Gemma2-9b-It', 'system_fingerprint': 'fp_10c08bf97d', 'finish_reason': 'tool_calls', 'logprobs': None}, id='run-8f2eaa91-7613-4d38-a9f7-4f5bce08804b-0', tool_calls=[{'name': 'multiply', 'args': {'first_number': 23, 'second_number': 46}, 'id': 'call_6219', 'type': 'tool_call'}], usage_metadata={'input_tokens': 1080, 'output_tokens': 93, 'total_tokens': 1173})]}\n",
      "----\n",
      "Selected tool: multiply\n",
      "{'messages': [1058]}\n",
      "----\n"
     ]
    }
   ],
   "source": [
    "for s in app.stream({\"messages\": [\"what is multiplication of 23 and 46?\"]}):\n",
    "    print(list(s.values())[0])\n",
    "    print(\"----\")"
   ]
  },
  {
   "cell_type": "code",
   "execution_count": 138,
   "metadata": {},
   "outputs": [
    {
     "name": "stdout",
     "output_type": "stream",
     "text": [
      "{'messages': [AIMessage(content='', additional_kwargs={'tool_calls': [{'id': 'call_x5n1', 'function': {'arguments': '{\"query\":\"total amount of money exist over the earth\"}', 'name': 'search'}, 'type': 'function'}]}, response_metadata={'token_usage': {'completion_tokens': 87, 'prompt_tokens': 1080, 'total_tokens': 1167, 'completion_time': 0.158181818, 'prompt_time': 0.034949826, 'queue_time': 0.0030261179999999943, 'total_time': 0.193131644}, 'model_name': 'Gemma2-9b-It', 'system_fingerprint': 'fp_10c08bf97d', 'finish_reason': 'tool_calls', 'logprobs': None}, id='run-ea9306f0-8c34-44d0-9cad-0cff7d1c39ac-0', tool_calls=[{'name': 'search', 'args': {'query': 'total amount of money exist over the earth'}, 'id': 'call_x5n1', 'type': 'tool_call'}], usage_metadata={'input_tokens': 1080, 'output_tokens': 87, 'total_tokens': 1167})]}\n",
      "----\n",
      "Selected tool: search\n"
     ]
    },
    {
     "ename": "Exception",
     "evalue": "web search discard",
     "output_type": "error",
     "traceback": [
      "\u001b[1;31m---------------------------------------------------------------------------\u001b[0m",
      "\u001b[1;31mException\u001b[0m                                 Traceback (most recent call last)",
      "Cell \u001b[1;32mIn[138], line 1\u001b[0m\n\u001b[1;32m----> 1\u001b[0m \u001b[38;5;28;01mfor\u001b[39;00m s \u001b[38;5;129;01min\u001b[39;00m app\u001b[38;5;241m.\u001b[39mstream({\u001b[38;5;124m\"\u001b[39m\u001b[38;5;124mmessages\u001b[39m\u001b[38;5;124m\"\u001b[39m: [\u001b[38;5;124m\"\u001b[39m\u001b[38;5;124mwhat is the total amount of money exist over the earth?\u001b[39m\u001b[38;5;124m\"\u001b[39m]}):\n\u001b[0;32m      2\u001b[0m     \u001b[38;5;28mprint\u001b[39m(\u001b[38;5;28mlist\u001b[39m(s\u001b[38;5;241m.\u001b[39mvalues())[\u001b[38;5;241m0\u001b[39m])\n\u001b[0;32m      3\u001b[0m     \u001b[38;5;28mprint\u001b[39m(\u001b[38;5;124m\"\u001b[39m\u001b[38;5;124m----\u001b[39m\u001b[38;5;124m\"\u001b[39m)\n",
      "File \u001b[1;32mc:\\Users\\sunny\\langgraph-end-to-end\\env\\lib\\site-packages\\langgraph\\pregel\\__init__.py:1298\u001b[0m, in \u001b[0;36mPregel.stream\u001b[1;34m(self, input, config, stream_mode, output_keys, interrupt_before, interrupt_after, debug, subgraphs)\u001b[0m\n\u001b[0;32m   1287\u001b[0m     \u001b[38;5;66;03m# Similarly to Bulk Synchronous Parallel / Pregel model\u001b[39;00m\n\u001b[0;32m   1288\u001b[0m     \u001b[38;5;66;03m# computation proceeds in steps, while there are channel updates\u001b[39;00m\n\u001b[0;32m   1289\u001b[0m     \u001b[38;5;66;03m# channel updates from step N are only visible in step N+1\u001b[39;00m\n\u001b[0;32m   1290\u001b[0m     \u001b[38;5;66;03m# channels are guaranteed to be immutable for the duration of the step,\u001b[39;00m\n\u001b[0;32m   1291\u001b[0m     \u001b[38;5;66;03m# with channel updates applied only at the transition between steps\u001b[39;00m\n\u001b[0;32m   1292\u001b[0m     \u001b[38;5;28;01mwhile\u001b[39;00m loop\u001b[38;5;241m.\u001b[39mtick(\n\u001b[0;32m   1293\u001b[0m         input_keys\u001b[38;5;241m=\u001b[39m\u001b[38;5;28mself\u001b[39m\u001b[38;5;241m.\u001b[39minput_channels,\n\u001b[0;32m   1294\u001b[0m         interrupt_before\u001b[38;5;241m=\u001b[39minterrupt_before_,\n\u001b[0;32m   1295\u001b[0m         interrupt_after\u001b[38;5;241m=\u001b[39minterrupt_after_,\n\u001b[0;32m   1296\u001b[0m         manager\u001b[38;5;241m=\u001b[39mrun_manager,\n\u001b[0;32m   1297\u001b[0m     ):\n\u001b[1;32m-> 1298\u001b[0m         \u001b[38;5;28;01mfor\u001b[39;00m _ \u001b[38;5;129;01min\u001b[39;00m runner\u001b[38;5;241m.\u001b[39mtick(\n\u001b[0;32m   1299\u001b[0m             loop\u001b[38;5;241m.\u001b[39mtasks\u001b[38;5;241m.\u001b[39mvalues(),\n\u001b[0;32m   1300\u001b[0m             timeout\u001b[38;5;241m=\u001b[39m\u001b[38;5;28mself\u001b[39m\u001b[38;5;241m.\u001b[39mstep_timeout,\n\u001b[0;32m   1301\u001b[0m             retry_policy\u001b[38;5;241m=\u001b[39m\u001b[38;5;28mself\u001b[39m\u001b[38;5;241m.\u001b[39mretry_policy,\n\u001b[0;32m   1302\u001b[0m             get_waiter\u001b[38;5;241m=\u001b[39mget_waiter,\n\u001b[0;32m   1303\u001b[0m         ):\n\u001b[0;32m   1304\u001b[0m             \u001b[38;5;66;03m# emit output\u001b[39;00m\n\u001b[0;32m   1305\u001b[0m             \u001b[38;5;28;01myield from\u001b[39;00m output()\n\u001b[0;32m   1306\u001b[0m \u001b[38;5;66;03m# emit output\u001b[39;00m\n",
      "File \u001b[1;32mc:\\Users\\sunny\\langgraph-end-to-end\\env\\lib\\site-packages\\langgraph\\pregel\\runner.py:56\u001b[0m, in \u001b[0;36mPregelRunner.tick\u001b[1;34m(self, tasks, reraise, timeout, retry_policy, get_waiter)\u001b[0m\n\u001b[0;32m     54\u001b[0m t \u001b[38;5;241m=\u001b[39m tasks[\u001b[38;5;241m0\u001b[39m]\n\u001b[0;32m     55\u001b[0m \u001b[38;5;28;01mtry\u001b[39;00m:\n\u001b[1;32m---> 56\u001b[0m     \u001b[43mrun_with_retry\u001b[49m\u001b[43m(\u001b[49m\u001b[43mt\u001b[49m\u001b[43m,\u001b[49m\u001b[43m \u001b[49m\u001b[43mretry_policy\u001b[49m\u001b[43m)\u001b[49m\n\u001b[0;32m     57\u001b[0m     \u001b[38;5;28mself\u001b[39m\u001b[38;5;241m.\u001b[39mcommit(t, \u001b[38;5;28;01mNone\u001b[39;00m)\n\u001b[0;32m     58\u001b[0m \u001b[38;5;28;01mexcept\u001b[39;00m \u001b[38;5;167;01mException\u001b[39;00m \u001b[38;5;28;01mas\u001b[39;00m exc:\n",
      "File \u001b[1;32mc:\\Users\\sunny\\langgraph-end-to-end\\env\\lib\\site-packages\\langgraph\\pregel\\retry.py:29\u001b[0m, in \u001b[0;36mrun_with_retry\u001b[1;34m(task, retry_policy)\u001b[0m\n\u001b[0;32m     27\u001b[0m task\u001b[38;5;241m.\u001b[39mwrites\u001b[38;5;241m.\u001b[39mclear()\n\u001b[0;32m     28\u001b[0m \u001b[38;5;66;03m# run the task\u001b[39;00m\n\u001b[1;32m---> 29\u001b[0m \u001b[43mtask\u001b[49m\u001b[38;5;241;43m.\u001b[39;49m\u001b[43mproc\u001b[49m\u001b[38;5;241;43m.\u001b[39;49m\u001b[43minvoke\u001b[49m\u001b[43m(\u001b[49m\u001b[43mtask\u001b[49m\u001b[38;5;241;43m.\u001b[39;49m\u001b[43minput\u001b[49m\u001b[43m,\u001b[49m\u001b[43m \u001b[49m\u001b[43mconfig\u001b[49m\u001b[43m)\u001b[49m\n\u001b[0;32m     30\u001b[0m \u001b[38;5;66;03m# if successful, end\u001b[39;00m\n\u001b[0;32m     31\u001b[0m \u001b[38;5;28;01mbreak\u001b[39;00m\n",
      "File \u001b[1;32mc:\\Users\\sunny\\langgraph-end-to-end\\env\\lib\\site-packages\\langgraph\\utils\\runnable.py:405\u001b[0m, in \u001b[0;36mRunnableSeq.invoke\u001b[1;34m(self, input, config, **kwargs)\u001b[0m\n\u001b[0;32m    403\u001b[0m context\u001b[38;5;241m.\u001b[39mrun(_set_config_context, config)\n\u001b[0;32m    404\u001b[0m \u001b[38;5;28;01mif\u001b[39;00m i \u001b[38;5;241m==\u001b[39m \u001b[38;5;241m0\u001b[39m:\n\u001b[1;32m--> 405\u001b[0m     \u001b[38;5;28minput\u001b[39m \u001b[38;5;241m=\u001b[39m context\u001b[38;5;241m.\u001b[39mrun(step\u001b[38;5;241m.\u001b[39minvoke, \u001b[38;5;28minput\u001b[39m, config, \u001b[38;5;241m*\u001b[39m\u001b[38;5;241m*\u001b[39mkwargs)\n\u001b[0;32m    406\u001b[0m \u001b[38;5;28;01melse\u001b[39;00m:\n\u001b[0;32m    407\u001b[0m     \u001b[38;5;28minput\u001b[39m \u001b[38;5;241m=\u001b[39m context\u001b[38;5;241m.\u001b[39mrun(step\u001b[38;5;241m.\u001b[39minvoke, \u001b[38;5;28minput\u001b[39m, config)\n",
      "File \u001b[1;32mc:\\Users\\sunny\\langgraph-end-to-end\\env\\lib\\site-packages\\langgraph\\utils\\runnable.py:181\u001b[0m, in \u001b[0;36mRunnableCallable.invoke\u001b[1;34m(self, input, config, **kwargs)\u001b[0m\n\u001b[0;32m    179\u001b[0m \u001b[38;5;28;01melse\u001b[39;00m:\n\u001b[0;32m    180\u001b[0m     context\u001b[38;5;241m.\u001b[39mrun(_set_config_context, config)\n\u001b[1;32m--> 181\u001b[0m     ret \u001b[38;5;241m=\u001b[39m context\u001b[38;5;241m.\u001b[39mrun(\u001b[38;5;28mself\u001b[39m\u001b[38;5;241m.\u001b[39mfunc, \u001b[38;5;28minput\u001b[39m, \u001b[38;5;241m*\u001b[39m\u001b[38;5;241m*\u001b[39mkwargs)\n\u001b[0;32m    182\u001b[0m \u001b[38;5;28;01mif\u001b[39;00m \u001b[38;5;28misinstance\u001b[39m(ret, Runnable) \u001b[38;5;129;01mand\u001b[39;00m \u001b[38;5;28mself\u001b[39m\u001b[38;5;241m.\u001b[39mrecurse:\n\u001b[0;32m    183\u001b[0m     \u001b[38;5;28;01mreturn\u001b[39;00m ret\u001b[38;5;241m.\u001b[39minvoke(\u001b[38;5;28minput\u001b[39m, config)\n",
      "Cell \u001b[1;32mIn[130], line 12\u001b[0m, in \u001b[0;36minvoke_tool\u001b[1;34m(state)\u001b[0m\n\u001b[0;32m     10\u001b[0m     response \u001b[38;5;241m=\u001b[39m \u001b[38;5;28minput\u001b[39m(prompt\u001b[38;5;241m=\u001b[39m\u001b[38;5;124mf\u001b[39m\u001b[38;5;124m\"\u001b[39m\u001b[38;5;124m[y/n] continue with expensive web search?\u001b[39m\u001b[38;5;124m\"\u001b[39m)\n\u001b[0;32m     11\u001b[0m     \u001b[38;5;28;01mif\u001b[39;00m response \u001b[38;5;241m==\u001b[39m \u001b[38;5;124m\"\u001b[39m\u001b[38;5;124mn\u001b[39m\u001b[38;5;124m\"\u001b[39m:\n\u001b[1;32m---> 12\u001b[0m         \u001b[38;5;28;01mraise\u001b[39;00m \u001b[38;5;167;01mException\u001b[39;00m(\u001b[38;5;124m\"\u001b[39m\u001b[38;5;124mweb search discard\u001b[39m\u001b[38;5;124m\"\u001b[39m)\n\u001b[0;32m     14\u001b[0m response \u001b[38;5;241m=\u001b[39m tool_mapping[tool_details[\u001b[38;5;124m'\u001b[39m\u001b[38;5;124mfunction\u001b[39m\u001b[38;5;124m'\u001b[39m][\u001b[38;5;124m'\u001b[39m\u001b[38;5;124mname\u001b[39m\u001b[38;5;124m'\u001b[39m]]\u001b[38;5;241m.\u001b[39minvoke(json\u001b[38;5;241m.\u001b[39mloads(tool_details\u001b[38;5;241m.\u001b[39mget(\u001b[38;5;124m\"\u001b[39m\u001b[38;5;124mfunction\u001b[39m\u001b[38;5;124m\"\u001b[39m)\u001b[38;5;241m.\u001b[39mget(\u001b[38;5;124m\"\u001b[39m\u001b[38;5;124marguments\u001b[39m\u001b[38;5;124m\"\u001b[39m)))\n\u001b[0;32m     15\u001b[0m \u001b[38;5;28;01mreturn\u001b[39;00m {\u001b[38;5;124m\"\u001b[39m\u001b[38;5;124mmessages\u001b[39m\u001b[38;5;124m\"\u001b[39m : [response]}\n",
      "\u001b[1;31mException\u001b[0m: web search discard"
     ]
    }
   ],
   "source": [
    "for s in app.stream({\"messages\": [\"what is the total amount of money exist over the earth?\"]}):\n",
    "    print(list(s.values())[0])\n",
    "    print(\"----\")"
   ]
  },
  {
   "cell_type": "markdown",
   "metadata": {},
   "source": [
    "#### LangGraph supports human-in-the-loop workflows in a number of ways. In this section, we will use LangGraph's interrupt_before functionality to always break the tool node."
   ]
  },
  {
   "cell_type": "code",
   "execution_count": 139,
   "metadata": {},
   "outputs": [],
   "source": [
    "from langchain_groq import ChatGroq\n",
    "llm=ChatGroq(model_name=\"Gemma2-9b-It\")"
   ]
  },
  {
   "cell_type": "code",
   "execution_count": 140,
   "metadata": {},
   "outputs": [],
   "source": [
    "class AgentState(TypedDict):\n",
    "    messages: Annotated[list, add_messages]"
   ]
  },
  {
   "cell_type": "code",
   "execution_count": 141,
   "metadata": {},
   "outputs": [],
   "source": [
    "tavily=TavilySearchResults()"
   ]
  },
  {
   "cell_type": "code",
   "execution_count": null,
   "metadata": {},
   "outputs": [],
   "source": [
    "tools = [tavily]"
   ]
  },
  {
   "cell_type": "code",
   "execution_count": 142,
   "metadata": {},
   "outputs": [],
   "source": [
    "llm_with_tools = llm.bind_tools(tools)"
   ]
  },
  {
   "cell_type": "code",
   "execution_count": 143,
   "metadata": {},
   "outputs": [],
   "source": [
    "def ai_assistant(state: AgentState):\n",
    "    return {\"messages\": [llm_with_tools.invoke(state[\"messages\"])]}"
   ]
  },
  {
   "cell_type": "code",
   "execution_count": 144,
   "metadata": {},
   "outputs": [],
   "source": [
    "memory = MemorySaver()"
   ]
  },
  {
   "cell_type": "code",
   "execution_count": 145,
   "metadata": {},
   "outputs": [
    {
     "data": {
      "text/plain": [
       "<langgraph.graph.state.StateGraph at 0x11d1d998a60>"
      ]
     },
     "execution_count": 145,
     "metadata": {},
     "output_type": "execute_result"
    }
   ],
   "source": [
    "graph_builder = StateGraph(AgentState)\n",
    "graph_builder.add_node(\"ai_assistant\", ai_assistant)\n",
    "\n",
    "tool_node = ToolNode(tools=tools)\n",
    "graph_builder.add_node(\"tools\", tool_node)"
   ]
  },
  {
   "cell_type": "code",
   "execution_count": 147,
   "metadata": {},
   "outputs": [
    {
     "data": {
      "text/plain": [
       "<langgraph.graph.state.StateGraph at 0x11d1d998a60>"
      ]
     },
     "execution_count": 147,
     "metadata": {},
     "output_type": "execute_result"
    }
   ],
   "source": [
    "graph_builder.add_edge(START, \"ai_assistant\")\n",
    "\n",
    "graph_builder.add_conditional_edges(\n",
    "    \"ai_assistant\",\n",
    "    tools_condition,\n",
    ")\n",
    "graph_builder.add_edge(\"tools\", \"ai_assistant\")"
   ]
  },
  {
   "cell_type": "code",
   "execution_count": 148,
   "metadata": {},
   "outputs": [],
   "source": [
    "app2 = graph_builder.compile(\n",
    "    checkpointer=memory,\n",
    "    # This is new!\n",
    "    interrupt_before=[\"tools\"],\n",
    "    # Note: can also interrupt __after__ tools, if desired.\n",
    "    # interrupt_after=[\"tools\"]\n",
    ")"
   ]
  },
  {
   "cell_type": "code",
   "execution_count": 149,
   "metadata": {},
   "outputs": [
    {
     "data": {
      "image/jpeg": "[encoded data removed]",
      "text/plain": [
       "<IPython.core.display.Image object>"
      ]
     },
     "metadata": {},
     "output_type": "display_data"
    }
   ],
   "source": [
    "from IPython.display import Image, display\n",
    "display(Image(app2.get_graph().draw_mermaid_png()))"
   ]
  },
  {
   "cell_type": "code",
   "execution_count": 150,
   "metadata": {},
   "outputs": [],
   "source": [
    "user_input = \"what is current a capital of india?\"\n",
    "config = {\"configurable\": {\"thread_id\": \"1\"}}"
   ]
  },
  {
   "cell_type": "code",
   "execution_count": 151,
   "metadata": {},
   "outputs": [],
   "source": [
    "# The config is the **second positional argument** to stream() or invoke()!\n",
    "events = app2.stream(\n",
    "    {\"messages\": [(\"user\", user_input)]}, config, stream_mode=\"values\"\n",
    ")"
   ]
  },
  {
   "cell_type": "code",
   "execution_count": 152,
   "metadata": {},
   "outputs": [
    {
     "name": "stdout",
     "output_type": "stream",
     "text": [
      "================================\u001b[1m Human Message \u001b[0m=================================\n",
      "\n",
      "what is current a capital of india?\n",
      "==================================\u001b[1m Ai Message \u001b[0m==================================\n",
      "Tool Calls:\n",
      "  search (call_5pgj)\n",
      " Call ID: call_5pgj\n",
      "  Args:\n",
      "    query: what is the capital of india\n"
     ]
    }
   ],
   "source": [
    "for event in events:\n",
    "    if \"messages\" in event:\n",
    "        event[\"messages\"][-1].pretty_print()"
   ]
  },
  {
   "cell_type": "code",
   "execution_count": 153,
   "metadata": {},
   "outputs": [],
   "source": [
    "snapshot = app2.get_state(config)"
   ]
  },
  {
   "cell_type": "code",
   "execution_count": 154,
   "metadata": {},
   "outputs": [
    {
     "data": {
      "text/plain": [
       "('tools',)"
      ]
     },
     "execution_count": 154,
     "metadata": {},
     "output_type": "execute_result"
    }
   ],
   "source": [
    "snapshot.next"
   ]
  },
  {
   "cell_type": "code",
   "execution_count": 155,
   "metadata": {},
   "outputs": [],
   "source": [
    "last_message=snapshot.values[\"messages\"][-1]"
   ]
  },
  {
   "cell_type": "code",
   "execution_count": 156,
   "metadata": {},
   "outputs": [
    {
     "data": {
      "text/plain": [
       "[{'name': 'search',\n",
       "  'args': {'query': 'what is the capital of india'},\n",
       "  'id': 'call_5pgj',\n",
       "  'type': 'tool_call'}]"
      ]
     },
     "execution_count": 156,
     "metadata": {},
     "output_type": "execute_result"
    }
   ],
   "source": [
    "last_message.tool_calls"
   ]
  },
  {
   "cell_type": "code",
   "execution_count": 159,
   "metadata": {},
   "outputs": [],
   "source": [
    "# `None` will append nothing new to the current state, letting it resume as if it had never been interrupted\n",
    "events = app2.stream(None, config, stream_mode=\"values\")"
   ]
  },
  {
   "cell_type": "code",
   "execution_count": 160,
   "metadata": {},
   "outputs": [
    {
     "name": "stdout",
     "output_type": "stream",
     "text": [
      "==================================\u001b[1m Ai Message \u001b[0m==================================\n",
      "Tool Calls:\n",
      "  search (call_6kp1)\n",
      " Call ID: call_6kp1\n",
      "  Args:\n",
      "    query: what is the capital of india\n",
      "=================================\u001b[1m Tool Message \u001b[0m=================================\n",
      "Name: search\n",
      "\n",
      "[{\"url\": \"https://www.yahoo.com/news/capital-india-territory-came-plus-130045224.html\", \"content\": \"About 1.4 billion people live in India, and the country is predicted to top China as the world’s most populous country by mid-2023, the United Nations reports. The capital of India is New Delhi, located in the north-central part of the country to the west of the Yamuna River. Mumbai, the state capital of Maharashtra, is often considered the financial capital of India because of its role in the national and international economy. New Delhi is part of one of India’s union territories, the National Capital Territory of Dehli. This article originally appeared on USA TODAY: What is the capital of India?\"}, {\"url\": \"https://en.wikipedia.org/wiki/List_of_capitals_of_India\", \"content\": \"In 1858, Allahabad (now Prayagraj) became the capital of India for a day when it also served as the capital of North-Western Provinces. [3]During the British Raj, until 1911, Calcutta was the capital of India. [4]By the latter half of the 19th century, Shimla had become the summer capital. [5]King George V proclaimed the transfer of the capital from Calcutta to Delhi at the climax of the 1911\"}, {\"url\": \"https://www.worldatlas.com/articles/what-is-the-capital-of-india.html\", \"content\": \"Related\\nThe Largest Empires In The History Of India\\nBiggest Ethnic Groups In India\\nMore in World Facts\\nThe Largest Countries In Asia By Area\\n Also, the durbar was held in Delhi so as to welcome the Prince of Wales; hence the British associated Delhi with royal heritage.\\n What is the Capital of India?\\nIndia, also known as the Republic of India is located in South Asia. For historical reasons, Red Fort which is located in New Delhi is a reminder to the British when they defeated the Mughal ruler in 1857. Initially, the capital city was in Kolkata when King George V of Britain ordered that the capital be moved to Delhi in 1911.\"}, {\"url\": \"https://www.studyiq.com/articles/states-and-capitals-of-india/\", \"content\": \"28 States and Capitals of India. Currently, India has a total of 28 States and 8 Union Territories. Three states, Himachal Pradesh, Maharashtra, and Uttarakhand, have separate capitals for their summer and winter legislative sessions. According to the Preamble of Indian Constitution, India is a republican, socialist, secular, and independent state.\"}, {\"url\": \"https://www.britannica.com/place/Delhi\", \"content\": \"The city of Delhi actually consists of two components: Old Delhi, in the north, the historic city; and New Delhi, in the south, since 1947 the capital of India, built in the first part of the 20th century as the capital of British India.\\n Two sides of the triangle are articulated by the rocky hills of the Aravalli Range—one to the south of the city, the other on its western edge, where it is known as the Delhi Ridge. To the east the territory is bounded by the state of Uttar Pradesh, and to the north, west, and south it is bounded by the state of Haryana.\\n One of the country’s largest urban agglomerations, Delhi sits astride (but primarily on the west bank of) the Yamuna River, a tributary of the Ganges (Ganga) River, about 100 miles (160 km) south of the Himalayas. The summer season lasts from mid-March to the end of June, with maximum temperatures typically reaching about 100 °F (about 37 °C) and minimum temperatures falling into the high 70s F (about 25 °C); it is characterized by frequent thunderstorms and squalls, especially in April and May.\"}]\n",
      "==================================\u001b[1m Ai Message \u001b[0m==================================\n",
      "\n",
      "New Delhi\n"
     ]
    }
   ],
   "source": [
    "for event in events:\n",
    "    if \"messages\" in event:\n",
    "        event[\"messages\"][-1].pretty_print()"
   ]
  },
  {
   "cell_type": "code",
   "execution_count": 161,
   "metadata": {},
   "outputs": [],
   "source": [
    "user_input = \"what is a weather there?\"\n",
    "\n",
    "config = {\"configurable\": {\"thread_id\": \"1\"}}"
   ]
  },
  {
   "cell_type": "code",
   "execution_count": 162,
   "metadata": {},
   "outputs": [],
   "source": [
    "# The config is the **second positional argument** to stream() or invoke()!\n",
    "events = app2.stream(\n",
    "    {\"messages\": [(\"user\", user_input)]}, config, stream_mode=\"values\"\n",
    ")"
   ]
  },
  {
   "cell_type": "code",
   "execution_count": 163,
   "metadata": {},
   "outputs": [
    {
     "name": "stdout",
     "output_type": "stream",
     "text": [
      "================================\u001b[1m Human Message \u001b[0m=================================\n",
      "\n",
      "what is a weather there?\n",
      "==================================\u001b[1m Ai Message \u001b[0m==================================\n",
      "Tool Calls:\n",
      "  search (call_a0jf)\n",
      " Call ID: call_a0jf\n",
      "  Args:\n",
      "    query: what is the weather in new delhi\n"
     ]
    }
   ],
   "source": [
    "for event in events:\n",
    "    if \"messages\" in event:\n",
    "        event[\"messages\"][-1].pretty_print()"
   ]
  },
  {
   "cell_type": "code",
   "execution_count": 164,
   "metadata": {},
   "outputs": [],
   "source": [
    "snapshot = app2.get_state(config)"
   ]
  },
  {
   "cell_type": "code",
   "execution_count": 165,
   "metadata": {},
   "outputs": [
    {
     "data": {
      "text/plain": [
       "('tools',)"
      ]
     },
     "execution_count": 165,
     "metadata": {},
     "output_type": "execute_result"
    }
   ],
   "source": [
    "snapshot.next"
   ]
  },
  {
   "cell_type": "code",
   "execution_count": 166,
   "metadata": {},
   "outputs": [],
   "source": [
    "last_message=snapshot.values[\"messages\"][-1]"
   ]
  },
  {
   "cell_type": "code",
   "execution_count": 167,
   "metadata": {},
   "outputs": [
    {
     "data": {
      "text/plain": [
       "[{'name': 'search',\n",
       "  'args': {'query': 'what is the weather in new delhi'},\n",
       "  'id': 'call_a0jf',\n",
       "  'type': 'tool_call'}]"
      ]
     },
     "execution_count": 167,
     "metadata": {},
     "output_type": "execute_result"
    }
   ],
   "source": [
    "last_message.tool_calls"
   ]
  },
  {
   "cell_type": "code",
   "execution_count": 168,
   "metadata": {},
   "outputs": [],
   "source": [
    "# `None` will append nothing new to the current state, letting it resume as if it had never been interrupted\n",
    "events = app2.stream(None, config, stream_mode=\"values\")"
   ]
  },
  {
   "cell_type": "code",
   "execution_count": 169,
   "metadata": {},
   "outputs": [
    {
     "name": "stdout",
     "output_type": "stream",
     "text": [
      "==================================\u001b[1m Ai Message \u001b[0m==================================\n",
      "Tool Calls:\n",
      "  search (call_a0jf)\n",
      " Call ID: call_a0jf\n",
      "  Args:\n",
      "    query: what is the weather in new delhi\n",
      "=================================\u001b[1m Tool Message \u001b[0m=================================\n",
      "Name: search\n",
      "\n",
      "[{\"url\": \"https://www.weatherapi.com/\", \"content\": \"{'location': {'name': 'New Delhi', 'region': 'Delhi', 'country': 'India', 'lat': 28.6, 'lon': 77.2, 'tz_id': 'Asia/Kolkata', 'localtime_epoch': 1731747682, 'localtime': '2024-11-16 14:31'}, 'current': {'last_updated_epoch': 1731747600, 'last_updated': '2024-11-16 14:30', 'temp_c': 28.0, 'temp_f': 82.4, 'is_day': 1, 'condition': {'text': 'Mist', 'icon': '//cdn.weatherapi.com/weather/64x64/day/143.png', 'code': 1030}, 'wind_mph': 7.6, 'wind_kph': 12.2, 'wind_degree': 319, 'wind_dir': 'NW', 'pressure_mb': 1013.0, 'pressure_in': 29.91, 'precip_mm': 0.0, 'precip_in': 0.0, 'humidity': 35, 'cloud': 0, 'feelslike_c': 26.0, 'feelslike_f': 78.8, 'windchill_c': 30.2, 'windchill_f': 86.3, 'heatindex_c': 27.9, 'heatindex_f': 82.3, 'dewpoint_c': 4.5, 'dewpoint_f': 40.1, 'vis_km': 1.7, 'vis_miles': 1.0, 'uv': 2.4, 'gust_mph': 8.7, 'gust_kph': 14.1}}\"}, {\"url\": \"https://www.hindustantimes.com/cities/delhi-news/delhi-weather-today-aqi-and-rain-forecast-updates-november-16-2024-101731720605375.html\", \"content\": \"The temperature in Delhi today, on November 16, 2024, is 27.46 °C. The day's forecast indicates a minimum and maximum temperature of 17.05 °C and 29.82 °C, respectively. The relative humidity\"}, {\"url\": \"https://news24online.com/information/new-delhi-weather-update-today-november-16-2024-current-temperature-aqi-red-alert-imd-forecast-for-tomorrow-and-next-7-days/381751/\", \"content\": \"News › information › new delhi weather update today november 16 2024 current temperature aqi red alert imd forecast for tomorrow and next 7 days ... We bring you the latest weather update for New Delhi on November 16, 2024. As per the India Meteorological Department ... 2024-11-17: 29.0: 15.0: Moderate Fog: 196: Unhealthy: 2024-11-18: 27.0:\"}, {\"url\": \"https://timesofindia.indiatimes.com/city/delhi/city-news-today-live-updates-latest-news-breaking-news-aqi-air-pollution-weather-diwali-news-delhi-mumbai-bengaluru-jhasi-fire-16-november-2024/liveblog/115349933.cms\", \"content\": \"Delhi's air quality improved slightly on Friday, moving from 'severe' to the high end of 'very poor,' with an AQI of 396, down from 424. ... THE TIMES OF INDIA | Nov 16, 2024, 12:49:00\"}, {\"url\": \"https://www.indiatvnews.com/delhi/delhi-air-pollution-grap-3-imposed-as-aqi-level-rises-to-severe-category-know-restrictions-penalties-2024-11-15-961855\", \"content\": \"The Delhi government has implemented GRAP III restrictions in Delhi. Saturday, November 16, 2024. ... Shubham Bajpai New Delhi Published on: November 15, 2024 19:23 IST . URL copied.\"}]\n",
      "==================================\u001b[1m Ai Message \u001b[0m==================================\n",
      "\n",
      "The weather in New Delhi is currently 28°C (82.4°F) with mist.\n"
     ]
    }
   ],
   "source": [
    "for event in events:\n",
    "    if \"messages\" in event:\n",
    "        event[\"messages\"][-1].pretty_print()"
   ]
  },
  {
   "cell_type": "code",
   "execution_count": 170,
   "metadata": {},
   "outputs": [
    {
     "data": {
      "text/plain": [
       "StateSnapshot(values={'messages': [HumanMessage(content='what is current a capital of india?', additional_kwargs={}, response_metadata={}, id='010366f9-229e-4e36-8c4f-4153b6f114a4'), AIMessage(content='', additional_kwargs={'tool_calls': [{'id': 'call_5pgj', 'function': {'arguments': '{\"query\":\"what is the capital of india\"}', 'name': 'search'}, 'type': 'function'}]}, response_metadata={'token_usage': {'completion_tokens': 85, 'prompt_tokens': 1076, 'total_tokens': 1161, 'completion_time': 0.154545455, 'prompt_time': 0.045566493, 'queue_time': 0.0024469869999999977, 'total_time': 0.200111948}, 'model_name': 'Gemma2-9b-It', 'system_fingerprint': 'fp_10c08bf97d', 'finish_reason': 'tool_calls', 'logprobs': None}, id='run-d2a2e08b-39e2-474e-84cb-b4946c94be02-0', tool_calls=[{'name': 'search', 'args': {'query': 'what is the capital of india'}, 'id': 'call_5pgj', 'type': 'tool_call'}], usage_metadata={'input_tokens': 1076, 'output_tokens': 85, 'total_tokens': 1161}), ToolMessage(content='[{\"url\": \"https://www.geeksforgeeks.org/what-is-the-capital-city-of-india/\", \"content\": \"The capital city of India is New Delhi, situated in the northern part of the country. It was officially declared the capital of India in 1911 during British rule, replacing Kolkata. New Delhi serves as the political, cultural, and administrative center of India. The city is renowned for its rich history, diverse culture, and architectural\"}, {\"url\": \"https://en.wikipedia.org/wiki/List_of_capitals_of_India\", \"content\": \"In 1858, Allahabad (now Prayagraj) became the capital of India for a day when it also served as the capital of North-Western Provinces. [3]During the British Raj, until 1911, Calcutta was the capital of India. [4]By the latter half of the 19th century, Shimla had become the summer capital. [5]King George V proclaimed the transfer of the capital from Calcutta to Delhi at the climax of the 1911\"}, {\"url\": \"https://www.worldatlas.com/articles/what-is-the-capital-of-india.html\", \"content\": \"Related\\\\nThe Largest Empires In The History Of India\\\\nBiggest Ethnic Groups In India\\\\nMore in World Facts\\\\nThe Largest Countries In Asia By Area\\\\n Also, the durbar was held in Delhi so as to welcome the Prince of Wales; hence the British associated Delhi with royal heritage.\\\\n What is the Capital of India?\\\\nIndia, also known as the Republic of India is located in South Asia. For historical reasons, Red Fort which is located in New Delhi is a reminder to the British when they defeated the Mughal ruler in 1857. Initially, the capital city was in Kolkata when King George V of Britain ordered that the capital be moved to Delhi in 1911.\"}, {\"url\": \"https://www.usatoday.com/story/news/world/2023/05/24/what-is-the-capital-of-india/70195720007/\", \"content\": \"What is the oldest language?Endangered and extinct dialects, explained\\\\nWorld’s most populous city:Top 10 cities in the world, US ranked\\\\nHow many states are in India?\\\\nIndia is home to 28 states, each with its own capital and run by a Governor who represents the President:\\\\nIndia also has eight union territories, governed by an Administrator appointed by the President:\\\\nWhat state is New Delhi in?\\\\nNew Delhi is part of one of India’s union territories, the National Capital Territory of Dehli. The capital of India is New Delhi, located in the north-central part of the country to the west of the Yamuna River.\\\\n Calcutta (now Kolkata, the capital of West Bengal) was the country’s capital until 1911 when King George V declared Delhi the new capital and construction of New Delhi began.\\\\n Mumbai, the state capital of Maharashtra, is often considered the financial capital of India because of its role in the national and international economy.\\\\n About 1.4 billion people live in India, and the country is predicted to top China as the world’s most populous country by mid-2023, the United Nations reports.\"}, {\"url\": \"https://www.britannica.com/place/Delhi\", \"content\": \"The city of Delhi actually consists of two components: Old Delhi, in the north, the historic city; and New Delhi, in the south, since 1947 the capital of India, built in the first part of the 20th century as the capital of British India.\\\\n Two sides of the triangle are articulated by the rocky hills of the Aravalli Range—one to the south of the city, the other on its western edge, where it is known as the Delhi Ridge. To the east the territory is bounded by the state of Uttar Pradesh, and to the north, west, and south it is bounded by the state of Haryana.\\\\n One of the country’s largest urban agglomerations, Delhi sits astride (but primarily on the west bank of) the Yamuna River, a tributary of the Ganges (Ganga) River, about 100 miles (160 km) south of the Himalayas. The summer season lasts from mid-March to the end of June, with maximum temperatures typically reaching about 100 °F (about 37 °C) and minimum temperatures falling into the high 70s F (about 25 °C); it is characterized by frequent thunderstorms and squalls, especially in April and May.\"}]', name='search', id='ec0cf965-f2d5-46b2-8cb8-db312e840a48', tool_call_id='call_5pgj'), AIMessage(content='', additional_kwargs={'tool_calls': [{'id': 'call_6kp1', 'function': {'arguments': '{\"query\":\"what is the capital of india\"}', 'name': 'search'}, 'type': 'function'}]}, response_metadata={'token_usage': {'completion_tokens': 48, 'prompt_tokens': 2161, 'total_tokens': 2209, 'completion_time': 0.087272727, 'prompt_time': 0.069413256, 'queue_time': 0.00306691399999999, 'total_time': 0.156685983}, 'model_name': 'Gemma2-9b-It', 'system_fingerprint': 'fp_10c08bf97d', 'finish_reason': 'tool_calls', 'logprobs': None}, id='run-b74db94b-927c-443d-bc14-f52bc97fe313-0', tool_calls=[{'name': 'search', 'args': {'query': 'what is the capital of india'}, 'id': 'call_6kp1', 'type': 'tool_call'}], usage_metadata={'input_tokens': 2161, 'output_tokens': 48, 'total_tokens': 2209}), ToolMessage(content='[{\"url\": \"https://www.yahoo.com/news/capital-india-territory-came-plus-130045224.html\", \"content\": \"About 1.4 billion people live in India, and the country is predicted to top China as the world’s most populous country by mid-2023, the United Nations reports. The capital of India is New Delhi, located in the north-central part of the country to the west of the Yamuna River. Mumbai, the state capital of Maharashtra, is often considered the financial capital of India because of its role in the national and international economy. New Delhi is part of one of India’s union territories, the National Capital Territory of Dehli. This article originally appeared on USA TODAY: What is the capital of India?\"}, {\"url\": \"https://en.wikipedia.org/wiki/List_of_capitals_of_India\", \"content\": \"In 1858, Allahabad (now Prayagraj) became the capital of India for a day when it also served as the capital of North-Western Provinces. [3]During the British Raj, until 1911, Calcutta was the capital of India. [4]By the latter half of the 19th century, Shimla had become the summer capital. [5]King George V proclaimed the transfer of the capital from Calcutta to Delhi at the climax of the 1911\"}, {\"url\": \"https://www.worldatlas.com/articles/what-is-the-capital-of-india.html\", \"content\": \"Related\\\\nThe Largest Empires In The History Of India\\\\nBiggest Ethnic Groups In India\\\\nMore in World Facts\\\\nThe Largest Countries In Asia By Area\\\\n Also, the durbar was held in Delhi so as to welcome the Prince of Wales; hence the British associated Delhi with royal heritage.\\\\n What is the Capital of India?\\\\nIndia, also known as the Republic of India is located in South Asia. For historical reasons, Red Fort which is located in New Delhi is a reminder to the British when they defeated the Mughal ruler in 1857. Initially, the capital city was in Kolkata when King George V of Britain ordered that the capital be moved to Delhi in 1911.\"}, {\"url\": \"https://www.studyiq.com/articles/states-and-capitals-of-india/\", \"content\": \"28 States and Capitals of India. Currently, India has a total of 28 States and 8 Union Territories. Three states, Himachal Pradesh, Maharashtra, and Uttarakhand, have separate capitals for their summer and winter legislative sessions. According to the Preamble of Indian Constitution, India is a republican, socialist, secular, and independent state.\"}, {\"url\": \"https://www.britannica.com/place/Delhi\", \"content\": \"The city of Delhi actually consists of two components: Old Delhi, in the north, the historic city; and New Delhi, in the south, since 1947 the capital of India, built in the first part of the 20th century as the capital of British India.\\\\n Two sides of the triangle are articulated by the rocky hills of the Aravalli Range—one to the south of the city, the other on its western edge, where it is known as the Delhi Ridge. To the east the territory is bounded by the state of Uttar Pradesh, and to the north, west, and south it is bounded by the state of Haryana.\\\\n One of the country’s largest urban agglomerations, Delhi sits astride (but primarily on the west bank of) the Yamuna River, a tributary of the Ganges (Ganga) River, about 100 miles (160 km) south of the Himalayas. The summer season lasts from mid-March to the end of June, with maximum temperatures typically reaching about 100 °F (about 37 °C) and minimum temperatures falling into the high 70s F (about 25 °C); it is characterized by frequent thunderstorms and squalls, especially in April and May.\"}]', name='search', id='ea1d2c33-bcf2-4d25-8898-2942ad61e970', tool_call_id='call_6kp1'), AIMessage(content='New Delhi', additional_kwargs={}, response_metadata={'token_usage': {'completion_tokens': 4, 'prompt_tokens': 3107, 'total_tokens': 3111, 'completion_time': 0.007272727, 'prompt_time': 0.121819562, 'queue_time': 0.003230679, 'total_time': 0.129092289}, 'model_name': 'Gemma2-9b-It', 'system_fingerprint': 'fp_10c08bf97d', 'finish_reason': 'stop', 'logprobs': None}, id='run-a89d6d0b-363b-4b0b-a56f-0c7a6d833fd2-0', usage_metadata={'input_tokens': 3107, 'output_tokens': 4, 'total_tokens': 3111}), HumanMessage(content='what is a weather there?', additional_kwargs={}, response_metadata={}, id='6c8174a9-321b-4ae7-93da-222e8333d46c'), AIMessage(content='', additional_kwargs={'tool_calls': [{'id': 'call_a0jf', 'function': {'arguments': '{\"query\":\"what is the weather in new delhi\"}', 'name': 'search'}, 'type': 'function'}]}, response_metadata={'token_usage': {'completion_tokens': 49, 'prompt_tokens': 3125, 'total_tokens': 3174, 'completion_time': 0.089090909, 'prompt_time': 0.100581819, 'queue_time': 0.003408247000000003, 'total_time': 0.189672728}, 'model_name': 'Gemma2-9b-It', 'system_fingerprint': 'fp_10c08bf97d', 'finish_reason': 'tool_calls', 'logprobs': None}, id='run-72f2edeb-cacd-4d11-ad8c-0e231a91069f-0', tool_calls=[{'name': 'search', 'args': {'query': 'what is the weather in new delhi'}, 'id': 'call_a0jf', 'type': 'tool_call'}], usage_metadata={'input_tokens': 3125, 'output_tokens': 49, 'total_tokens': 3174}), ToolMessage(content='[{\"url\": \"https://www.weatherapi.com/\", \"content\": \"{\\'location\\': {\\'name\\': \\'New Delhi\\', \\'region\\': \\'Delhi\\', \\'country\\': \\'India\\', \\'lat\\': 28.6, \\'lon\\': 77.2, \\'tz_id\\': \\'Asia/Kolkata\\', \\'localtime_epoch\\': 1731747682, \\'localtime\\': \\'2024-11-16 14:31\\'}, \\'current\\': {\\'last_updated_epoch\\': 1731747600, \\'last_updated\\': \\'2024-11-16 14:30\\', \\'temp_c\\': 28.0, \\'temp_f\\': 82.4, \\'is_day\\': 1, \\'condition\\': {\\'text\\': \\'Mist\\', \\'icon\\': \\'//cdn.weatherapi.com/weather/64x64/day/143.png\\', \\'code\\': 1030}, \\'wind_mph\\': 7.6, \\'wind_kph\\': 12.2, \\'wind_degree\\': 319, \\'wind_dir\\': \\'NW\\', \\'pressure_mb\\': 1013.0, \\'pressure_in\\': 29.91, \\'precip_mm\\': 0.0, \\'precip_in\\': 0.0, \\'humidity\\': 35, \\'cloud\\': 0, \\'feelslike_c\\': 26.0, \\'feelslike_f\\': 78.8, \\'windchill_c\\': 30.2, \\'windchill_f\\': 86.3, \\'heatindex_c\\': 27.9, \\'heatindex_f\\': 82.3, \\'dewpoint_c\\': 4.5, \\'dewpoint_f\\': 40.1, \\'vis_km\\': 1.7, \\'vis_miles\\': 1.0, \\'uv\\': 2.4, \\'gust_mph\\': 8.7, \\'gust_kph\\': 14.1}}\"}, {\"url\": \"https://www.hindustantimes.com/cities/delhi-news/delhi-weather-today-aqi-and-rain-forecast-updates-november-16-2024-101731720605375.html\", \"content\": \"The temperature in Delhi today, on November 16, 2024, is 27.46 °C. The day\\'s forecast indicates a minimum and maximum temperature of 17.05 °C and 29.82 °C, respectively. The relative humidity\"}, {\"url\": \"https://news24online.com/information/new-delhi-weather-update-today-november-16-2024-current-temperature-aqi-red-alert-imd-forecast-for-tomorrow-and-next-7-days/381751/\", \"content\": \"News › information › new delhi weather update today november 16 2024 current temperature aqi red alert imd forecast for tomorrow and next 7 days ... We bring you the latest weather update for New Delhi on November 16, 2024. As per the India Meteorological Department ... 2024-11-17: 29.0: 15.0: Moderate Fog: 196: Unhealthy: 2024-11-18: 27.0:\"}, {\"url\": \"https://timesofindia.indiatimes.com/city/delhi/city-news-today-live-updates-latest-news-breaking-news-aqi-air-pollution-weather-diwali-news-delhi-mumbai-bengaluru-jhasi-fire-16-november-2024/liveblog/115349933.cms\", \"content\": \"Delhi\\'s air quality improved slightly on Friday, moving from \\'severe\\' to the high end of \\'very poor,\\' with an AQI of 396, down from 424. ... THE TIMES OF INDIA | Nov 16, 2024, 12:49:00\"}, {\"url\": \"https://www.indiatvnews.com/delhi/delhi-air-pollution-grap-3-imposed-as-aqi-level-rises-to-severe-category-know-restrictions-penalties-2024-11-15-961855\", \"content\": \"The Delhi government has implemented GRAP III restrictions in Delhi. Saturday, November 16, 2024. ... Shubham Bajpai New Delhi Published on: November 15, 2024 19:23 IST . URL copied.\"}]', name='search', id='544c9c0d-2611-4833-9cb2-4846cf8173be', tool_call_id='call_a0jf'), AIMessage(content='The weather in New Delhi is currently 28°C (82.4°F) with mist. \\n', additional_kwargs={}, response_metadata={'token_usage': {'completion_tokens': 27, 'prompt_tokens': 4294, 'total_tokens': 4321, 'completion_time': 0.049090909, 'prompt_time': 0.149134351, 'queue_time': 0.003851947999999994, 'total_time': 0.19822526}, 'model_name': 'Gemma2-9b-It', 'system_fingerprint': 'fp_10c08bf97d', 'finish_reason': 'stop', 'logprobs': None}, id='run-a74a4766-2c5e-4973-b518-39d1e3f7bded-0', usage_metadata={'input_tokens': 4294, 'output_tokens': 27, 'total_tokens': 4321})]}, next=(), config={'configurable': {'thread_id': '1', 'checkpoint_ns': '', 'checkpoint_id': '1efa3f96-8953-6421-800a-c0ed85cfb4a7'}}, metadata={'source': 'loop', 'writes': {'ai_assistant': {'messages': [AIMessage(content='The weather in New Delhi is currently 28°C (82.4°F) with mist. \\n', additional_kwargs={}, response_metadata={'token_usage': {'completion_tokens': 27, 'prompt_tokens': 4294, 'total_tokens': 4321, 'completion_time': 0.049090909, 'prompt_time': 0.149134351, 'queue_time': 0.003851947999999994, 'total_time': 0.19822526}, 'model_name': 'Gemma2-9b-It', 'system_fingerprint': 'fp_10c08bf97d', 'finish_reason': 'stop', 'logprobs': None}, id='run-a74a4766-2c5e-4973-b518-39d1e3f7bded-0', usage_metadata={'input_tokens': 4294, 'output_tokens': 27, 'total_tokens': 4321})]}}, 'step': 10, 'parents': {}}, created_at='2024-11-16T09:01:46.856758+00:00', parent_config={'configurable': {'thread_id': '1', 'checkpoint_ns': '', 'checkpoint_id': '1efa3f96-81dc-6927-8009-48a18dd09d60'}}, tasks=())"
      ]
     },
     "execution_count": 170,
     "metadata": {},
     "output_type": "execute_result"
    }
   ],
   "source": [
    "app2.get_state(config)"
   ]
  },
  {
   "cell_type": "code",
   "execution_count": 171,
   "metadata": {},
   "outputs": [],
   "source": [
    "snapshot=app2.get_state(config)"
   ]
  },
  {
   "cell_type": "code",
   "execution_count": 172,
   "metadata": {},
   "outputs": [
    {
     "data": {
      "text/plain": [
       "()"
      ]
     },
     "execution_count": 172,
     "metadata": {},
     "output_type": "execute_result"
    }
   ],
   "source": [
    "snapshot.next"
   ]
  },
  {
   "cell_type": "code",
   "execution_count": 173,
   "metadata": {},
   "outputs": [],
   "source": [
    "user_input = \"give me the recent news of it?\"\n",
    "\n",
    "config = {\"configurable\": {\"thread_id\": \"1\"}}"
   ]
  },
  {
   "cell_type": "code",
   "execution_count": 174,
   "metadata": {},
   "outputs": [],
   "source": [
    "# The config is the **second positional argument** to stream() or invoke()!\n",
    "events = app2.stream(\n",
    "    {\"messages\": [(\"user\", user_input)]}, config, stream_mode=\"values\"\n",
    ")"
   ]
  },
  {
   "cell_type": "code",
   "execution_count": 175,
   "metadata": {},
   "outputs": [
    {
     "name": "stdout",
     "output_type": "stream",
     "text": [
      "================================\u001b[1m Human Message \u001b[0m=================================\n",
      "\n",
      "give me the recent news of it?\n",
      "==================================\u001b[1m Ai Message \u001b[0m==================================\n",
      "Tool Calls:\n",
      "  search (call_k054)\n",
      " Call ID: call_k054\n",
      "  Args:\n",
      "    query: recent news new delhi\n"
     ]
    }
   ],
   "source": [
    "for event in events:\n",
    "    if \"messages\" in event:\n",
    "        event[\"messages\"][-1].pretty_print()"
   ]
  },
  {
   "cell_type": "code",
   "execution_count": 176,
   "metadata": {},
   "outputs": [],
   "source": [
    "snapshot=app2.get_state(config)"
   ]
  },
  {
   "cell_type": "code",
   "execution_count": 177,
   "metadata": {},
   "outputs": [],
   "source": [
    "current_message = snapshot.values[\"messages\"][-1]"
   ]
  },
  {
   "cell_type": "code",
   "execution_count": 178,
   "metadata": {},
   "outputs": [
    {
     "name": "stdout",
     "output_type": "stream",
     "text": [
      "==================================\u001b[1m Ai Message \u001b[0m==================================\n",
      "Tool Calls:\n",
      "  search (call_k054)\n",
      " Call ID: call_k054\n",
      "  Args:\n",
      "    query: recent news new delhi\n"
     ]
    }
   ],
   "source": [
    "current_message.pretty_print()"
   ]
  },
  {
   "cell_type": "code",
   "execution_count": 179,
   "metadata": {},
   "outputs": [],
   "source": [
    "tool_call_id = current_message.tool_calls[0][\"id\"] "
   ]
  },
  {
   "cell_type": "code",
   "execution_count": 180,
   "metadata": {},
   "outputs": [
    {
     "data": {
      "text/plain": [
       "'call_k054'"
      ]
     },
     "execution_count": 180,
     "metadata": {},
     "output_type": "execute_result"
    }
   ],
   "source": [
    "tool_call_id"
   ]
  },
  {
   "cell_type": "code",
   "execution_count": 181,
   "metadata": {},
   "outputs": [],
   "source": [
    "from langchain_core.messages import AIMessage, ToolMessage"
   ]
  },
  {
   "cell_type": "code",
   "execution_count": null,
   "metadata": {},
   "outputs": [],
   "source": [
    "answer = \"it is just related to raining which is happing on daily basis\""
   ]
  },
  {
   "cell_type": "code",
   "execution_count": 182,
   "metadata": {},
   "outputs": [],
   "source": [
    "new_messages = [\n",
    "    ToolMessage(content=answer, tool_call_id=tool_call_id),\n",
    "    AIMessage(content=answer),\n",
    "]"
   ]
  },
  {
   "cell_type": "code",
   "execution_count": 183,
   "metadata": {},
   "outputs": [
    {
     "data": {
      "text/plain": [
       "{'configurable': {'thread_id': '1',\n",
       "  'checkpoint_ns': '',\n",
       "  'checkpoint_id': '1efa3f9e-a414-6c0a-800e-b3cf9a8c9199'}}"
      ]
     },
     "execution_count": 183,
     "metadata": {},
     "output_type": "execute_result"
    }
   ],
   "source": [
    "app2.update_state(\n",
    "    config,\n",
    "    {\"messages\": new_messages},\n",
    ")"
   ]
  },
  {
   "cell_type": "code",
   "execution_count": 184,
   "metadata": {},
   "outputs": [
    {
     "name": "stdout",
     "output_type": "stream",
     "text": [
      "[AIMessage(content='it is just related to raining which is happing on daily basis', additional_kwargs={}, response_metadata={}, id='86ee0c6d-7771-4ed6-8bd2-242adace39be')]\n"
     ]
    }
   ],
   "source": [
    "print(app2.get_state(config).values[\"messages\"][-1:])"
   ]
  },
  {
   "cell_type": "code",
   "execution_count": null,
   "metadata": {},
   "outputs": [],
   "source": []
  }
 ],
 "metadata": {
  "language_info": {
   "name": "python"
  }
 },
 "nbformat": 4,
 "nbformat_minor": 2
}
