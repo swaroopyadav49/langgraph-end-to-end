{
 "cells": [
  {
   "cell_type": "markdown",
   "metadata": {},
   "source": [
    "**A Structured Output Agent in LangChain (or other LLM frameworks) refers to an agent that produces responses in a specific structured format, such as JSON, dictionaries, or other structured data types. These agents are particularly useful when you want to ensure that your responses conform to a defined schema, making it easier to parse, validate, and utilize in downstream applications.**\n",
    "\n",
    "##### Why Use a Structured Output Agent?\n",
    "\n",
    "- Controlled Responses: Ensures that the outputs follow a specific format, reducing ambiguity.\n",
    "- Data Validation: Useful when you want the model output to fit predefined structures, like for APIs or database entries.\n",
    "- Automation: Makes integration with systems like dashboards, ETL pipelines, or business workflows easier."
   ]
  },
  {
   "cell_type": "code",
   "execution_count": 7,
   "metadata": {},
   "outputs": [],
   "source": [
    "from langchain_community.tools.tavily_search import TavilySearchResults\n",
    "from langchain_core.tools import tool\n",
    "from pydantic import BaseModel, Field\n",
    "from langgraph.graph import MessagesState,StateGraph, END\n",
    "from langgraph.prebuilt import ToolNode\n",
    "from langchain_core.messages import HumanMessage"
   ]
  },
  {
   "cell_type": "code",
   "execution_count": 8,
   "metadata": {},
   "outputs": [],
   "source": [
    "from langchain_groq import ChatGroq\n",
    "llm=ChatGroq(model_name=\"Gemma2-9b-It\")"
   ]
  },
  {
   "cell_type": "code",
   "execution_count": 13,
   "metadata": {},
   "outputs": [],
   "source": [
    "tavily_tool = TavilySearchResults()"
   ]
  },
  {
   "cell_type": "code",
   "execution_count": 14,
   "metadata": {},
   "outputs": [],
   "source": [
    "@tool\n",
    "def get_city_details(prompt):\n",
    "    \"Should do a web search to find the required city details\"\n",
    "    response = tavily_tool.invoke(prompt)\n",
    "    return response"
   ]
  },
  {
   "cell_type": "code",
   "execution_count": 15,
   "metadata": {},
   "outputs": [],
   "source": [
    "tools = [get_city_details]"
   ]
  },
  {
   "cell_type": "code",
   "execution_count": 16,
   "metadata": {},
   "outputs": [],
   "source": [
    "model_with_tools = llm.bind_tools(tools)"
   ]
  },
  {
   "cell_type": "markdown",
   "metadata": {},
   "source": [
    "\n",
    "#### The BaseModel class is a core component of Pydantic, which is used extensively in Python applications for data validation, type checking, and parsing. It's particularly useful when working with APIs, web frameworks like FastAPI, and other scenarios where you need to enforce data structure and ensure data integrity.\n",
    "\n",
    "**Here's an overview of the BaseModel class, along with some examples to demonstrate how you can use it effectively.**\n",
    "\n",
    "####This code defines a Pydantic model called CityDetails using the BaseModel class. Let's break it down:\n",
    "\n",
    "- Explanation:\n",
    "- \n",
    "- Class Definition:\n",
    "\n",
    "- CityDetails inherits from BaseModel, making it a data validation model.\n",
    "- Fields with Type Annotations:\n",
    "\n",
    "- state_name: A string representing the state name of a city.\n",
    "- state_capital: A string representing the capital of that state.\n",
    "- country_name: A string representing the country name where the city is located.\n",
    "- country_capital: A string representing the capital of that country.\n",
    "\n",
    "**Field Descriptions:**\n",
    "\n",
    "- Each field uses Field() to provide a description that helps clarify what information each attribute represents.\n",
    "\n",
    "#### Purpose:\n",
    "\n",
    "- The model validates and structures data related to cities.\n",
    "- Useful for ensuring that any data related to cities has the correct structure before processing.\n",
    "- Helpful in APIs (like FastAPI) to generate self-documenting endpoints."
   ]
  },
  {
   "cell_type": "code",
   "execution_count": 17,
   "metadata": {},
   "outputs": [],
   "source": [
    "class CityDetails(BaseModel):\n",
    "    \"\"\"Respond to the user with this\"\"\"\n",
    "    state_name: str = Field(description=\"State name of the city\")\n",
    "    state_capital: str = Field(description=\"State capital of the city\")\n",
    "    country_name: str = Field(description=\"Country name of the city\")\n",
    "    country_capital: str = Field(description=\"Country capital of the city\")"
   ]
  },
  {
   "cell_type": "code",
   "execution_count": 18,
   "metadata": {},
   "outputs": [],
   "source": [
    "# Inherit 'messages' key from MessagesState, which is a list of chat messages\n",
    "class AgentState(MessagesState):\n",
    "    # Final structured response from the agent\n",
    "    final_response: CityDetails"
   ]
  },
  {
   "cell_type": "code",
   "execution_count": 19,
   "metadata": {},
   "outputs": [],
   "source": [
    "\n",
    "model_with_structured_output = llm.with_structured_output(CityDetails)"
   ]
  },
  {
   "cell_type": "code",
   "execution_count": 21,
   "metadata": {},
   "outputs": [],
   "source": [
    "def call_model(state: AgentState):\n",
    "    print(f\" this is 01 input from call model {state}\")\n",
    "    response = model_with_tools.invoke(state['messages'])\n",
    "    print(f\"this is 02 response from call model  {response}\")\n",
    "    # We return a list, because this will get added to the existing list\n",
    "    return {\"messages\": [response]}"
   ]
  },
  {
   "cell_type": "code",
   "execution_count": 22,
   "metadata": {},
   "outputs": [],
   "source": [
    "def should_continue(state: AgentState):\n",
    "    messages = state[\"messages\"]\n",
    "    last_message = messages[-1]\n",
    "    \n",
    "    # If there is no function call, then we respond to the user\n",
    "    if not last_message.tool_calls:\n",
    "        return \"respond\"\n",
    "    # Otherwise if there is, we continue with the tool\n",
    "    else:\n",
    "        return \"continue\""
   ]
  },
  {
   "cell_type": "code",
   "execution_count": 23,
   "metadata": {},
   "outputs": [],
   "source": [
    "def respond(state: AgentState):\n",
    "    print(f\"here is 03 state from respond {state}\")\n",
    "    response = model_with_structured_output.invoke([HumanMessage(content=state['messages'][-1].content)])\n",
    "    # We return the final answer\n",
    "    print(f\"this is 04 response from respond{response}\")\n",
    "    return {\"final_response\": response}"
   ]
  },
  {
   "cell_type": "code",
   "execution_count": 24,
   "metadata": {},
   "outputs": [],
   "source": [
    "# Define a new graph\n",
    "workflow = StateGraph(AgentState)\n",
    "\n",
    "# Define the two nodes we will cycle between\n",
    "workflow.add_node(\"llm\", call_model)\n",
    "workflow.add_node(\"tools\", ToolNode(tools))\n",
    "workflow.add_node(\"respond\", respond)\n",
    "\n",
    "\n",
    "# Set the entrypoint as `agent`\n",
    "# This means that this node is the first one called\n",
    "workflow.set_entry_point(\"llm\")\n",
    "\n",
    "# We now add a conditional edge\n",
    "workflow.add_conditional_edges(\n",
    "    \"llm\",\n",
    "    \n",
    "    should_continue,\n",
    "    {\n",
    "        \"continue\": \"tools\",\n",
    "        \"respond\": \"respond\",\n",
    "    },\n",
    ")\n",
    "\n",
    "workflow.add_edge(\"tools\", \"llm\")\n",
    "workflow.add_edge(\"respond\", END)\n",
    "graph = workflow.compile()"
   ]
  },
  {
   "cell_type": "code",
   "execution_count": 25,
   "metadata": {},
   "outputs": [
    {
     "data": {
      "image/jpeg": "[encoded data removed]",
      "text/plain": [
       "<IPython.core.display.Image object>"
      ]
     },
     "metadata": {},
     "output_type": "display_data"
    }
   ],
   "source": [
    "from IPython.display import Image, display\n",
    "# View\n",
    "display(Image(graph.get_graph().draw_mermaid_png()))"
   ]
  },
  {
   "cell_type": "code",
   "execution_count": 26,
   "metadata": {},
   "outputs": [
    {
     "name": "stdout",
     "output_type": "stream",
     "text": [
      " this is 01 input from call model {'messages': [HumanMessage(content='Tell me about the city details for gwalior?', additional_kwargs={}, response_metadata={}, id='5b8b7b85-b6a3-499f-b7ff-b16d5624656e')]}\n",
      "this is 02 response from call model  content='' additional_kwargs={'tool_calls': [{'id': 'call_tvky', 'function': {'arguments': '{\"prompt\":\"gwalior\"}', 'name': 'get_city_details'}, 'type': 'function'}]} response_metadata={'token_usage': {'completion_tokens': 86, 'prompt_tokens': 946, 'total_tokens': 1032, 'completion_time': 0.156363636, 'prompt_time': 0.038285097, 'queue_time': 0.002769992000000006, 'total_time': 0.194648733}, 'model_name': 'Gemma2-9b-It', 'system_fingerprint': 'fp_10c08bf97d', 'finish_reason': 'tool_calls', 'logprobs': None} id='run-38df1bbf-abb0-4638-8dcc-f8ace437176e-0' tool_calls=[{'name': 'get_city_details', 'args': {'prompt': 'gwalior'}, 'id': 'call_tvky', 'type': 'tool_call'}] usage_metadata={'input_tokens': 946, 'output_tokens': 86, 'total_tokens': 1032}\n",
      " this is 01 input from call model {'messages': [HumanMessage(content='Tell me about the city details for gwalior?', additional_kwargs={}, response_metadata={}, id='5b8b7b85-b6a3-499f-b7ff-b16d5624656e'), AIMessage(content='', additional_kwargs={'tool_calls': [{'id': 'call_tvky', 'function': {'arguments': '{\"prompt\":\"gwalior\"}', 'name': 'get_city_details'}, 'type': 'function'}]}, response_metadata={'token_usage': {'completion_tokens': 86, 'prompt_tokens': 946, 'total_tokens': 1032, 'completion_time': 0.156363636, 'prompt_time': 0.038285097, 'queue_time': 0.002769992000000006, 'total_time': 0.194648733}, 'model_name': 'Gemma2-9b-It', 'system_fingerprint': 'fp_10c08bf97d', 'finish_reason': 'tool_calls', 'logprobs': None}, id='run-38df1bbf-abb0-4638-8dcc-f8ace437176e-0', tool_calls=[{'name': 'get_city_details', 'args': {'prompt': 'gwalior'}, 'id': 'call_tvky', 'type': 'tool_call'}], usage_metadata={'input_tokens': 946, 'output_tokens': 86, 'total_tokens': 1032}), ToolMessage(content='[{\"url\": \"https://www.india.com/travel/gwalior/\", \"content\": \"Gwalior Tourism - Get Gwalior travel & tourism related information including tourist places, transport, nightlife, weather, photos, entertainment, shopping, festivals, maps, and attractions of\"}, {\"url\": \"https://www.holidify.com/places/gwalior/sightseeing-and-things-to-do.html\", \"content\": \"Explore the best tourist places in Gwalior, a historic city in Madhya Pradesh, India. Find out the top attractions, forts, palaces, temples, museums and more in Gwalior.\"}, {\"url\": \"https://www.britannica.com/place/Gwalior-India\", \"content\": \"Gwalior, city, northern Madhya Pradesh state, central India. It is situated about 75 miles (120 km) south of Agra. Gwalior is a cultural, industrial, and political centre and takes its name from the historic rock fortress that forms the centre of the city. It has been referred to as Gopa Parvat,\"}, {\"url\": \"https://www.mptourism.com/destination-gwalior.php\", \"content\": \"Gwalior is a significant railway station that is governed by the Jhansi Rail Division. By Road. The roads leading to Gwalior are very good in terms of connectivity. All of Madhya Pradesh\\'s major towns and the surrounding regions are connected to the location. Chanderi is located 239 kilometres, Lucknow and Bhopal are both only 423 kilometres\"}, {\"url\": \"https://en.wikipedia.org/wiki/List_of_tourist_attractions_in_Gwalior\", \"content\": \"Gwalior Fort also known as Gibraltar of India is an 5th-century hill fort in the City Gwalior.; View Of Chaturbhuj Temple. The Man Mandir Palace was built by the King of Tomar Dynasty - Man Singh Tomar in 15th century. Man Mandir is often referred as a Painted Palace because the painted effect of the Man Mandir Palace is due to the use of styled tiles of turquoise, green and yellow used\"}]', name='get_city_details', id='0a55a42d-bdb7-4887-afe5-3fca861ef4ff', tool_call_id='call_tvky')]}\n",
      "this is 02 response from call model  content='Gwalior is a historic city in Madhya Pradesh, India. It is known for its impressive rock fortress, Gwalior Fort, which dates back to the 5th century. \\n\\n\\nThe city is also home to several other notable attractions, including the Man Mandir Palace, the Jai Vilas Palace, and the Teli Temple. \\n' additional_kwargs={} response_metadata={'token_usage': {'completion_tokens': 73, 'prompt_tokens': 1484, 'total_tokens': 1557, 'completion_time': 0.132727273, 'prompt_time': 0.04764109, 'queue_time': 0.0024173390000000045, 'total_time': 0.180368363}, 'model_name': 'Gemma2-9b-It', 'system_fingerprint': 'fp_10c08bf97d', 'finish_reason': 'stop', 'logprobs': None} id='run-8eefb3c1-4f37-461d-b3f7-077f9510cfc0-0' usage_metadata={'input_tokens': 1484, 'output_tokens': 73, 'total_tokens': 1557}\n",
      "here is 03 state from respond {'messages': [HumanMessage(content='Tell me about the city details for gwalior?', additional_kwargs={}, response_metadata={}, id='5b8b7b85-b6a3-499f-b7ff-b16d5624656e'), AIMessage(content='', additional_kwargs={'tool_calls': [{'id': 'call_tvky', 'function': {'arguments': '{\"prompt\":\"gwalior\"}', 'name': 'get_city_details'}, 'type': 'function'}]}, response_metadata={'token_usage': {'completion_tokens': 86, 'prompt_tokens': 946, 'total_tokens': 1032, 'completion_time': 0.156363636, 'prompt_time': 0.038285097, 'queue_time': 0.002769992000000006, 'total_time': 0.194648733}, 'model_name': 'Gemma2-9b-It', 'system_fingerprint': 'fp_10c08bf97d', 'finish_reason': 'tool_calls', 'logprobs': None}, id='run-38df1bbf-abb0-4638-8dcc-f8ace437176e-0', tool_calls=[{'name': 'get_city_details', 'args': {'prompt': 'gwalior'}, 'id': 'call_tvky', 'type': 'tool_call'}], usage_metadata={'input_tokens': 946, 'output_tokens': 86, 'total_tokens': 1032}), ToolMessage(content='[{\"url\": \"https://www.india.com/travel/gwalior/\", \"content\": \"Gwalior Tourism - Get Gwalior travel & tourism related information including tourist places, transport, nightlife, weather, photos, entertainment, shopping, festivals, maps, and attractions of\"}, {\"url\": \"https://www.holidify.com/places/gwalior/sightseeing-and-things-to-do.html\", \"content\": \"Explore the best tourist places in Gwalior, a historic city in Madhya Pradesh, India. Find out the top attractions, forts, palaces, temples, museums and more in Gwalior.\"}, {\"url\": \"https://www.britannica.com/place/Gwalior-India\", \"content\": \"Gwalior, city, northern Madhya Pradesh state, central India. It is situated about 75 miles (120 km) south of Agra. Gwalior is a cultural, industrial, and political centre and takes its name from the historic rock fortress that forms the centre of the city. It has been referred to as Gopa Parvat,\"}, {\"url\": \"https://www.mptourism.com/destination-gwalior.php\", \"content\": \"Gwalior is a significant railway station that is governed by the Jhansi Rail Division. By Road. The roads leading to Gwalior are very good in terms of connectivity. All of Madhya Pradesh\\'s major towns and the surrounding regions are connected to the location. Chanderi is located 239 kilometres, Lucknow and Bhopal are both only 423 kilometres\"}, {\"url\": \"https://en.wikipedia.org/wiki/List_of_tourist_attractions_in_Gwalior\", \"content\": \"Gwalior Fort also known as Gibraltar of India is an 5th-century hill fort in the City Gwalior.; View Of Chaturbhuj Temple. The Man Mandir Palace was built by the King of Tomar Dynasty - Man Singh Tomar in 15th century. Man Mandir is often referred as a Painted Palace because the painted effect of the Man Mandir Palace is due to the use of styled tiles of turquoise, green and yellow used\"}]', name='get_city_details', id='0a55a42d-bdb7-4887-afe5-3fca861ef4ff', tool_call_id='call_tvky'), AIMessage(content='Gwalior is a historic city in Madhya Pradesh, India. It is known for its impressive rock fortress, Gwalior Fort, which dates back to the 5th century. \\n\\n\\nThe city is also home to several other notable attractions, including the Man Mandir Palace, the Jai Vilas Palace, and the Teli Temple. \\n', additional_kwargs={}, response_metadata={'token_usage': {'completion_tokens': 73, 'prompt_tokens': 1484, 'total_tokens': 1557, 'completion_time': 0.132727273, 'prompt_time': 0.04764109, 'queue_time': 0.0024173390000000045, 'total_time': 0.180368363}, 'model_name': 'Gemma2-9b-It', 'system_fingerprint': 'fp_10c08bf97d', 'finish_reason': 'stop', 'logprobs': None}, id='run-8eefb3c1-4f37-461d-b3f7-077f9510cfc0-0', usage_metadata={'input_tokens': 1484, 'output_tokens': 73, 'total_tokens': 1557})]}\n",
      "this is 04 response from respondstate_name='Madhya Pradesh' state_capital='Bhopal' country_name='India' country_capital='New Delhi'\n"
     ]
    }
   ],
   "source": [
    "answer = graph.invoke(input={\"messages\": [(\"human\", \"Tell me about the city details for gwalior?\")]})['final_response']\n"
   ]
  },
  {
   "cell_type": "code",
   "execution_count": 27,
   "metadata": {},
   "outputs": [
    {
     "data": {
      "text/plain": [
       "CityDetails(state_name='Madhya Pradesh', state_capital='Bhopal', country_name='India', country_capital='New Delhi')"
      ]
     },
     "execution_count": 27,
     "metadata": {},
     "output_type": "execute_result"
    }
   ],
   "source": [
    "answer"
   ]
  },
  {
   "cell_type": "code",
   "execution_count": null,
   "metadata": {},
   "outputs": [],
   "source": []
  }
 ],
 "metadata": {
  "kernelspec": {
   "display_name": "Python 3",
   "language": "python",
   "name": "python3"
  },
  "language_info": {
   "codemirror_mode": {
    "name": "ipython",
    "version": 3
   },
   "file_extension": ".py",
   "mimetype": "text/x-python",
   "name": "python",
   "nbconvert_exporter": "python",
   "pygments_lexer": "ipython3",
   "version": "3.10.14"
  }
 },
 "nbformat": 4,
 "nbformat_minor": 2
}
