{
 "cells": [
  {
   "cell_type": "code",
   "execution_count": 1,
   "id": "88ee163a",
   "metadata": {},
   "outputs": [],
   "source": [
    "import os\n",
    "from dotenv import load_dotenv\n",
    "load_dotenv()\n",
    "\n",
    "GOOGLE_API_KEY=os.getenv(\"GOOGLE_API_KEY\")\n",
    "TAVILY_API_KEY=os.getenv(\"TAVILY_API_KEY\")\n",
    "GROQ_API_KEY=os.getenv(\"GROQ_API_KEY\")\n",
    "LANGSMITH_API_KEY=os.getenv(\"LANGSMITH_API_KEY\")\n",
    "LANGSMITH_PROJECT=os.getenv(\"LANGSMITH_PROJECT\")\n",
    "os.environ[\"GOOGLE_API_KEY\"] = GOOGLE_API_KEY\n",
    "os.environ[\"TAVILY_API_KEY\"] = TAVILY_API_KEY\n",
    "os.environ[\"GROQ_API_KEY\"]= GROQ_API_KEY\n",
    "os.environ[\"LANGSMITH_API_KEY\"] = LANGSMITH_API_KEY\n",
    "os.environ[\"LANGSMITH_TRACING\"] = \"true\"\n",
    "os.environ[\"LANGSMITH_ENDPOINT\"] = \"https://api.smith.langchain.com\"\n",
    "os.environ[\"LANGSMITH_PROJECT\"]=LANGSMITH_PROJECT"
   ]
  },
  {
   "cell_type": "code",
   "execution_count": 2,
   "id": "b7f1b961",
   "metadata": {},
   "outputs": [
    {
     "data": {
      "text/plain": [
       "'langgraph-prerequist'"
      ]
     },
     "execution_count": 2,
     "metadata": {},
     "output_type": "execute_result"
    }
   ],
   "source": [
    "LANGSMITH_PROJECT"
   ]
  },
  {
   "cell_type": "code",
   "execution_count": 3,
   "id": "6c924125",
   "metadata": {},
   "outputs": [
    {
     "name": "stderr",
     "output_type": "stream",
     "text": [
      "d:\\langgraph-end-to-end\\langgraphvenv\\lib\\site-packages\\tqdm\\auto.py:21: TqdmWarning: IProgress not found. Please update jupyter and ipywidgets. See https://ipywidgets.readthedocs.io/en/stable/user_install.html\n",
      "  from .autonotebook import tqdm as notebook_tqdm\n"
     ]
    }
   ],
   "source": [
    "from langchain_google_genai import GoogleGenerativeAIEmbeddings\n",
    "embeddings = GoogleGenerativeAIEmbeddings(model=\"models/embedding-001\")\n",
    "from langchain_google_genai import ChatGoogleGenerativeAI\n",
    "llm = ChatGoogleGenerativeAI(model=\"gemini-1.0-pro\")"
   ]
  },
  {
   "cell_type": "code",
   "execution_count": 4,
   "id": "36f9e41e",
   "metadata": {},
   "outputs": [],
   "source": [
    "'''from langchain_huggingface import HuggingFaceEmbeddings\n",
    "embeddings=HuggingFaceEmbeddings(model_name=\"all-MiniLM-L6-v2\")'''\n",
    "from langchain_groq import ChatGroq\n",
    "import os\n",
    "llm=ChatGroq(model_name=\"Gemma2-9b-It\")"
   ]
  },
  {
   "cell_type": "code",
   "execution_count": 5,
   "id": "e30a8af5",
   "metadata": {},
   "outputs": [
    {
     "name": "stdout",
     "output_type": "stream",
     "text": [
      "## Voltage: The Electric Pressure\n",
      "\n",
      "Imagine voltage as the **electric pressure** that pushes electrons through a circuit. It's the **force** that drives electrical current. \n",
      "\n",
      "Here's a breakdown:\n",
      "\n",
      "* **Definition:** Voltage, measured in **volts (V)**, is the electrical potential difference between two points. This means it's the amount of energy an electric charge gains or loses as it moves between those points.\n",
      "* **Analogy:** Think of a water tank with a faucet. The height of the water in the tank represents the voltage, and the flow of water through the faucet represents the electric current. The higher the water level, the greater the pressure pushing the water out, just like a higher voltage pushes more electrons.\n",
      "* **Key Concepts:**\n",
      "    * **Potential Difference:** Voltage is all about the difference in electrical potential between two points. \n",
      "    * **Electric Field:** Voltage is created by an electric field, which exerts a force on charged particles.\n",
      "    * **Current Flow:** Voltage drives the flow of electrons (current) through a conductor. The higher the voltage, the greater the current flow, assuming the resistance remains constant.\n",
      "\n",
      "* **Examples:**\n",
      "    * A standard household outlet in the US has a voltage of **120 V**.\n",
      "    * A car battery has a voltage of **12 V**.\n",
      "    * A smartphone charger might have a voltage of **5 V**.\n",
      "\n",
      "**Important Notes:**\n",
      "\n",
      "* Voltage can be **direct current (DC)**, which flows in one direction, or **alternating current (AC)**, which changes direction periodically.\n",
      "* Voltage is a **scalar quantity**, meaning it has magnitude but no direction.\n",
      "\n",
      "\n",
      "Let me know if you have any more questions about voltage!\n",
      "\n",
      "goodbye take care yourself\n"
     ]
    }
   ],
   "source": [
    "while True:\n",
    "    question=input(\"type your question. if you want to quit the chat write quit\")\n",
    "    if question !=\"quit\":\n",
    "        print(llm.invoke(question).content)\n",
    "    else:\n",
    "        print(\"goodbye take care yourself\")\n",
    "        break"
   ]
  },
  {
   "cell_type": "code",
   "execution_count": null,
   "id": "4c7b1c2b",
   "metadata": {},
   "outputs": [],
   "source": []
  }
 ],
 "metadata": {
  "kernelspec": {
   "display_name": "Python 3",
   "language": "python",
   "name": "python3"
  },
  "language_info": {
   "codemirror_mode": {
    "name": "ipython",
    "version": 3
   },
   "file_extension": ".py",
   "mimetype": "text/x-python",
   "name": "python",
   "nbconvert_exporter": "python",
   "pygments_lexer": "ipython3",
   "version": "3.10.16"
  }
 },
 "nbformat": 4,
 "nbformat_minor": 5
}
